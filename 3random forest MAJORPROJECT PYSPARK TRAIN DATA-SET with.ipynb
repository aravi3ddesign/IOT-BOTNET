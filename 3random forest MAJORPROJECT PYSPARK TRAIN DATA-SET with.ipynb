{
 "cells": [
  {
   "cell_type": "markdown",
   "id": "e9d3bcc2",
   "metadata": {},
   "source": [
    "<a id=\"2\"></a>\n",
    "# <p style=\"background-color:blue;font-family:newtimeroman;color:#FFF9ED;font-size:150%;text-align:center;border-radius:10px 10px;\"> M.TECH MAJOR PROJECT Reg BL.EN.P2DSC20005 </p>\n",
    "<a id=\"2\"></a>\n"
   ]
  },
  {
   "cell_type": "markdown",
   "id": "92f0d829",
   "metadata": {},
   "source": [
    "\n",
    "\n",
    "\n",
    "<a id='top'></a>\n",
    "<div class=\"list-group\" id=\"list-tab\" role=\"tablist\">\n",
    "<p style=\"background-color:lightpink;font-family:newtimeroman;color:#FFF9ED;font-size:150%;text-align:center;border-radius:10px 10px;\">TABLE OF CONTENTS</p>   \n",
    "    \n",
    "* [1. INTRODUCTION AND IMPORTING LIBRARIES](#1)\n",
    "    \n",
    "* [2. LOADING DATA](#2)\n",
    "    \n",
    "* [3. DATA CLEANING](#3)\n",
    "    \n",
    "* [4. DATA PREPROCESSING](#4)   \n",
    "    \n",
    "* [5. DIMENSIONALITY REDUCTION](#5) \n",
    "      \n",
    "* [6. EVALUATING MODELS](#6)\n",
    "    \n",
    "* [7. CONCLUSION](#7)\n",
    "    \n",
    "* [8. END  EXIT](#8)"
   ]
  },
  {
   "cell_type": "markdown",
   "id": "51d41e74",
   "metadata": {},
   "source": [
    "# Instalation \n",
    "Intregating pyspark and kafka in jupyter notebook \n"
   ]
  },
  {
   "cell_type": "code",
   "execution_count": 1,
   "id": "1afb7d70",
   "metadata": {},
   "outputs": [
    {
     "data": {
      "text/plain": [
       "'C:\\\\Users\\\\abhi\\\\.conda\\\\envs\\\\pyspark1\\\\lib\\\\site-packages\\\\pyspark'"
      ]
     },
     "execution_count": 1,
     "metadata": {},
     "output_type": "execute_result"
    }
   ],
   "source": [
    "import pyspark\n",
    "import findspark\n",
    "findspark.init()\n",
    "\n",
    "\n",
    "findspark.find()"
   ]
  },
  {
   "cell_type": "markdown",
   "id": "8b366115",
   "metadata": {},
   "source": [
    "<a id=\"2\"></a>\n",
    "# <p style=\"background-color:lightpink;font-family:newtimeroman;color:#FFF9ED;font-size:150%;text-align:center;border-radius:10px 10px;\">CREATE SPARK SESSION</p>"
   ]
  },
  {
   "cell_type": "code",
   "execution_count": 2,
   "id": "f42bd41b",
   "metadata": {},
   "outputs": [
    {
     "data": {
      "text/html": [
       "\n",
       "            <div>\n",
       "                <p><b>SparkSession - in-memory</b></p>\n",
       "                \n",
       "        <div>\n",
       "            <p><b>SparkContext</b></p>\n",
       "\n",
       "            <p><a href=\"http://DESKTOP-0DFIU6N:4042\">Spark UI</a></p>\n",
       "\n",
       "            <dl>\n",
       "              <dt>Version</dt>\n",
       "                <dd><code>v3.3.1</code></dd>\n",
       "              <dt>Master</dt>\n",
       "                <dd><code>local[1]</code></dd>\n",
       "              <dt>AppName</dt>\n",
       "                <dd><code>Major Project</code></dd>\n",
       "            </dl>\n",
       "        </div>\n",
       "        \n",
       "            </div>\n",
       "        "
      ],
      "text/plain": [
       "<pyspark.sql.session.SparkSession at 0x15bfa296af0>"
      ]
     },
     "execution_count": 2,
     "metadata": {},
     "output_type": "execute_result"
    }
   ],
   "source": [
    "from pyspark.sql import SparkSession\n",
    "sc = SparkSession.builder. \\\n",
    "appName(\"Major Project\").\\\n",
    "master(\"local[1]\").\\\n",
    "config(\"spark.memory.offHeap.enabled\",\"true\"). \\\n",
    "config(\"spark.memory.offHeap.size\",\"10g\").getOrCreate()\n",
    "\n",
    "\n",
    "sc"
   ]
  },
  {
   "cell_type": "markdown",
   "id": "54c2a1e2",
   "metadata": {},
   "source": [
    "<a id=\"2\"></a>\n",
    "# <p style=\"background-color:lightpink;font-family:newtimeroman;color:#FFF9ED;font-size:150%;text-align:center;border-radius:10px 10px;\">IMPORT LIBRARY</p>"
   ]
  },
  {
   "cell_type": "code",
   "execution_count": 3,
   "id": "5fc8fcd9",
   "metadata": {},
   "outputs": [],
   "source": [
    "import pyspark\n",
    "import findspark\n",
    "\n",
    "from pyspark.sql import SparkSession\n",
    "from pyspark import SparkConf, SparkContext\n",
    "from pyspark.sql import SparkSession\n",
    "\n",
    "\n",
    "from pyspark.sql.types import *\n",
    "import pyspark.sql.functions as F\n",
    "from pyspark.sql.functions import udf, col\n",
    "from pyspark.mllib.evaluation import RegressionMetrics\n",
    "from pyspark.ml.tuning import ParamGridBuilder, CrossValidator, CrossValidatorModel\n",
    "from pyspark.ml.feature import VectorAssembler, StandardScaler\n",
    "from pyspark.ml.evaluation import RegressionEvaluator\n",
    "from pyspark.ml.linalg import Vectors\n",
    "from pyspark.ml.feature import VectorAssembler, StandardScaler\n",
    "from pyspark.ml import Pipeline\n",
    "\n",
    "\n",
    "import pandas as pd\n",
    "import numpy as np\n"
   ]
  },
  {
   "cell_type": "markdown",
   "id": "5b2b8a9d",
   "metadata": {},
   "source": [
    "<a id=\"2\"></a>\n",
    "# <p style=\"background-color:lightpink;font-family:newtimeroman;color:#FFF9ED;font-size:150%;text-align:center;border-radius:10px 10px;\"> DATA SET TOTAL SIZE-21 GB</p>"
   ]
  },
  {
   "cell_type": "markdown",
   "id": "56903422",
   "metadata": {},
   "source": []
  },
  {
   "cell_type": "markdown",
   "id": "6941ddbf",
   "metadata": {},
   "source": [
    "<a id=\"2\"></a>\n",
    "# <p style=\"background-color:BLUE;font-family:newtimeroman;color:#FFF9ED;font-size:150%;text-align:center;border-radius:10px 10px;\">LOADING DATA SET</p>"
   ]
  },
  {
   "cell_type": "code",
   "execution_count": 4,
   "id": "6db3749d",
   "metadata": {},
   "outputs": [],
   "source": [
    "df= sc.read.option(\"header\",True).csv(r\"C:\\Users\\abhi\\Desktop\\data Engineer\\pysparkproject\\iot23updated\\iotnewdata.csv\")"
   ]
  },
  {
   "cell_type": "code",
   "execution_count": 5,
   "id": "6cb504a5",
   "metadata": {},
   "outputs": [
    {
     "data": {
      "text/html": [
       "<div>\n",
       "<style scoped>\n",
       "    .dataframe tbody tr th:only-of-type {\n",
       "        vertical-align: middle;\n",
       "    }\n",
       "\n",
       "    .dataframe tbody tr th {\n",
       "        vertical-align: top;\n",
       "    }\n",
       "\n",
       "    .dataframe thead th {\n",
       "        text-align: right;\n",
       "    }\n",
       "</style>\n",
       "<table border=\"1\" class=\"dataframe\">\n",
       "  <thead>\n",
       "    <tr style=\"text-align: right;\">\n",
       "      <th></th>\n",
       "      <th>bidirectional_duration_ms</th>\n",
       "      <th>bidirectional_packets</th>\n",
       "      <th>bidirectional_bytes</th>\n",
       "      <th>src2dst_first_seen_ms</th>\n",
       "      <th>src2dst_last_seen_ms</th>\n",
       "      <th>src2dst_packets</th>\n",
       "      <th>src2dst_bytes</th>\n",
       "      <th>dst2src_first_seen_ms</th>\n",
       "      <th>dst2src_last_seen_ms</th>\n",
       "      <th>dst2src_packets</th>\n",
       "      <th>dst2src_bytes</th>\n",
       "      <th>dst2src_duration_ms</th>\n",
       "      <th>src2dst_duration_ms</th>\n",
       "      <th>Target</th>\n",
       "    </tr>\n",
       "  </thead>\n",
       "  <tbody>\n",
       "    <tr>\n",
       "      <th>0</th>\n",
       "      <td>0</td>\n",
       "      <td>1</td>\n",
       "      <td>405</td>\n",
       "      <td>1537522897732</td>\n",
       "      <td>1537522897732</td>\n",
       "      <td>1</td>\n",
       "      <td>405</td>\n",
       "      <td>0</td>\n",
       "      <td>0</td>\n",
       "      <td>0</td>\n",
       "      <td>0</td>\n",
       "      <td>0</td>\n",
       "      <td>0</td>\n",
       "      <td>0</td>\n",
       "    </tr>\n",
       "    <tr>\n",
       "      <th>1</th>\n",
       "      <td>0</td>\n",
       "      <td>1</td>\n",
       "      <td>425</td>\n",
       "      <td>1537522897732</td>\n",
       "      <td>1537522897732</td>\n",
       "      <td>1</td>\n",
       "      <td>425</td>\n",
       "      <td>0</td>\n",
       "      <td>0</td>\n",
       "      <td>0</td>\n",
       "      <td>0</td>\n",
       "      <td>0</td>\n",
       "      <td>0</td>\n",
       "      <td>0</td>\n",
       "    </tr>\n",
       "    <tr>\n",
       "      <th>2</th>\n",
       "      <td>0</td>\n",
       "      <td>1</td>\n",
       "      <td>405</td>\n",
       "      <td>1537522897732</td>\n",
       "      <td>1537522897732</td>\n",
       "      <td>1</td>\n",
       "      <td>405</td>\n",
       "      <td>0</td>\n",
       "      <td>0</td>\n",
       "      <td>0</td>\n",
       "      <td>0</td>\n",
       "      <td>0</td>\n",
       "      <td>0</td>\n",
       "      <td>0</td>\n",
       "    </tr>\n",
       "    <tr>\n",
       "      <th>3</th>\n",
       "      <td>7005</td>\n",
       "      <td>4</td>\n",
       "      <td>972</td>\n",
       "      <td>1537523212430</td>\n",
       "      <td>1537523219435</td>\n",
       "      <td>4</td>\n",
       "      <td>972</td>\n",
       "      <td>0</td>\n",
       "      <td>0</td>\n",
       "      <td>0</td>\n",
       "      <td>0</td>\n",
       "      <td>0</td>\n",
       "      <td>7005</td>\n",
       "      <td>0</td>\n",
       "    </tr>\n",
       "    <tr>\n",
       "      <th>4</th>\n",
       "      <td>7006</td>\n",
       "      <td>4</td>\n",
       "      <td>972</td>\n",
       "      <td>1537523212430</td>\n",
       "      <td>1537523219436</td>\n",
       "      <td>4</td>\n",
       "      <td>972</td>\n",
       "      <td>0</td>\n",
       "      <td>0</td>\n",
       "      <td>0</td>\n",
       "      <td>0</td>\n",
       "      <td>0</td>\n",
       "      <td>7006</td>\n",
       "      <td>0</td>\n",
       "    </tr>\n",
       "  </tbody>\n",
       "</table>\n",
       "</div>"
      ],
      "text/plain": [
       "  bidirectional_duration_ms bidirectional_packets bidirectional_bytes  \\\n",
       "0                         0                     1                 405   \n",
       "1                         0                     1                 425   \n",
       "2                         0                     1                 405   \n",
       "3                      7005                     4                 972   \n",
       "4                      7006                     4                 972   \n",
       "\n",
       "  src2dst_first_seen_ms src2dst_last_seen_ms src2dst_packets src2dst_bytes  \\\n",
       "0         1537522897732        1537522897732               1           405   \n",
       "1         1537522897732        1537522897732               1           425   \n",
       "2         1537522897732        1537522897732               1           405   \n",
       "3         1537523212430        1537523219435               4           972   \n",
       "4         1537523212430        1537523219436               4           972   \n",
       "\n",
       "  dst2src_first_seen_ms dst2src_last_seen_ms dst2src_packets dst2src_bytes  \\\n",
       "0                     0                    0               0             0   \n",
       "1                     0                    0               0             0   \n",
       "2                     0                    0               0             0   \n",
       "3                     0                    0               0             0   \n",
       "4                     0                    0               0             0   \n",
       "\n",
       "  dst2src_duration_ms src2dst_duration_ms Target  \n",
       "0                   0                   0      0  \n",
       "1                   0                   0      0  \n",
       "2                   0                   0      0  \n",
       "3                   0                7005      0  \n",
       "4                   0                7006      0  "
      ]
     },
     "execution_count": 5,
     "metadata": {},
     "output_type": "execute_result"
    }
   ],
   "source": [
    "df.limit(5).toPandas()"
   ]
  },
  {
   "cell_type": "markdown",
   "id": "735a330c",
   "metadata": {},
   "source": [
    "<a id=\"2\"></a>\n",
    "# <p style=\"background-color:lightpink;font-family:newtimeroman;color:#FFF9ED;font-size:150%;text-align:center;border-radius:10px 10px;\">OVERVIEW OF DATASET</p>"
   ]
  },
  {
   "cell_type": "code",
   "execution_count": 6,
   "id": "6fef287e",
   "metadata": {},
   "outputs": [
    {
     "name": "stdout",
     "output_type": "stream",
     "text": [
      "root\n",
      " |-- bidirectional_duration_ms: string (nullable = true)\n",
      " |-- bidirectional_packets: string (nullable = true)\n",
      " |-- bidirectional_bytes: string (nullable = true)\n",
      " |-- src2dst_first_seen_ms: string (nullable = true)\n",
      " |-- src2dst_last_seen_ms: string (nullable = true)\n",
      " |-- src2dst_packets: string (nullable = true)\n",
      " |-- src2dst_bytes: string (nullable = true)\n",
      " |-- dst2src_first_seen_ms: string (nullable = true)\n",
      " |-- dst2src_last_seen_ms: string (nullable = true)\n",
      " |-- dst2src_packets: string (nullable = true)\n",
      " |-- dst2src_bytes: string (nullable = true)\n",
      " |-- dst2src_duration_ms: string (nullable = true)\n",
      " |-- src2dst_duration_ms: string (nullable = true)\n",
      " |-- Target: string (nullable = true)\n",
      "\n"
     ]
    }
   ],
   "source": [
    "df.printSchema()"
   ]
  },
  {
   "cell_type": "code",
   "execution_count": 7,
   "id": "d51f02c5",
   "metadata": {},
   "outputs": [
    {
     "data": {
      "text/plain": [
       "['bidirectional_duration_ms',\n",
       " 'bidirectional_packets',\n",
       " 'bidirectional_bytes',\n",
       " 'src2dst_first_seen_ms',\n",
       " 'src2dst_last_seen_ms',\n",
       " 'src2dst_packets',\n",
       " 'src2dst_bytes',\n",
       " 'dst2src_first_seen_ms',\n",
       " 'dst2src_last_seen_ms',\n",
       " 'dst2src_packets',\n",
       " 'dst2src_bytes',\n",
       " 'dst2src_duration_ms',\n",
       " 'src2dst_duration_ms',\n",
       " 'Target']"
      ]
     },
     "execution_count": 7,
     "metadata": {},
     "output_type": "execute_result"
    }
   ],
   "source": [
    "df.columns"
   ]
  },
  {
   "cell_type": "code",
   "execution_count": 8,
   "id": "cec60442",
   "metadata": {},
   "outputs": [
    {
     "name": "stdout",
     "output_type": "stream",
     "text": [
      "Number of rows: \t 33170045\n",
      "Number of columns: \t 14\n"
     ]
    }
   ],
   "source": [
    "print('Number of rows: \\t', df.count())\n",
    "print('Number of columns: \\t', len(df.columns))"
   ]
  },
  {
   "cell_type": "code",
   "execution_count": 9,
   "id": "5e2cae5c",
   "metadata": {},
   "outputs": [
    {
     "name": "stdout",
     "output_type": "stream",
     "text": [
      "+------+--------+\n",
      "|Target|   count|\n",
      "+------+--------+\n",
      "|     0|    2878|\n",
      "|     1|33167167|\n",
      "+------+--------+\n",
      "\n"
     ]
    }
   ],
   "source": [
    "df.groupBy('Target').count().show()"
   ]
  },
  {
   "cell_type": "code",
   "execution_count": 10,
   "id": "cf63a9eb",
   "metadata": {},
   "outputs": [
    {
     "name": "stdout",
     "output_type": "stream",
     "text": [
      "bidirectional_duration_ms 0\n",
      "bidirectional_packets 0\n",
      "bidirectional_bytes  0\n",
      "src2dst_first_seen_ms 0\n",
      "src2dst_last_seen_ms 0\n",
      "src2dst_packets      0\n",
      "src2dst_bytes        0\n",
      "dst2src_first_seen_ms 0\n",
      "dst2src_last_seen_ms 0\n",
      "dst2src_packets      0\n",
      "dst2src_bytes        0\n",
      "dst2src_duration_ms  0\n",
      "src2dst_duration_ms  0\n",
      "Target               0\n"
     ]
    }
   ],
   "source": [
    "for col in df.columns:\n",
    "    print(col.ljust(20), df.filter(df[col].isNull()).count())"
   ]
  },
  {
   "cell_type": "markdown",
   "id": "8838b897",
   "metadata": {},
   "source": [
    "<a id=\"2\"></a>\n",
    "# <p style=\"background-color:lightpink;font-family:newtimeroman;color:#FFF9ED;font-size:150%;text-align:center;border-radius:10px 10px;\">DATA PREPROCESSING</p>"
   ]
  },
  {
   "cell_type": "code",
   "execution_count": 11,
   "id": "0407cca5",
   "metadata": {},
   "outputs": [],
   "source": [
    "#In this code snippet conert data type each columns into integer type for feeding this data into \n",
    "# as input tovector assembler\n",
    "for col in df.columns:\n",
    "    df = df.withColumn(col, df[col].cast(IntegerType()))"
   ]
  },
  {
   "cell_type": "code",
   "execution_count": 12,
   "id": "0b39b8be",
   "metadata": {},
   "outputs": [
    {
     "name": "stdout",
     "output_type": "stream",
     "text": [
      "root\n",
      " |-- bidirectional_duration_ms: integer (nullable = true)\n",
      " |-- bidirectional_packets: integer (nullable = true)\n",
      " |-- bidirectional_bytes: integer (nullable = true)\n",
      " |-- src2dst_first_seen_ms: integer (nullable = true)\n",
      " |-- src2dst_last_seen_ms: integer (nullable = true)\n",
      " |-- src2dst_packets: integer (nullable = true)\n",
      " |-- src2dst_bytes: integer (nullable = true)\n",
      " |-- dst2src_first_seen_ms: integer (nullable = true)\n",
      " |-- dst2src_last_seen_ms: integer (nullable = true)\n",
      " |-- dst2src_packets: integer (nullable = true)\n",
      " |-- dst2src_bytes: integer (nullable = true)\n",
      " |-- dst2src_duration_ms: integer (nullable = true)\n",
      " |-- src2dst_duration_ms: integer (nullable = true)\n",
      " |-- Target: integer (nullable = true)\n",
      "\n"
     ]
    }
   ],
   "source": [
    "df.printSchema()"
   ]
  },
  {
   "cell_type": "markdown",
   "id": "1576df2d",
   "metadata": {},
   "source": [
    "<a id=\"2\"></a>\n",
    "# <p style=\"background-color:lightpink;font-family:newtimeroman;color:#FFF9ED;font-size:150%;text-align:center;border-radius:10px 10px;\">CREATING FEATURE VECTOR USING VECTOR ASSEMBLER </p>"
   ]
  },
  {
   "cell_type": "markdown",
   "id": "270b6bc4",
   "metadata": {},
   "source": [
    "Preparing Dataset for Machine Learning"
   ]
  },
  {
   "cell_type": "code",
   "execution_count": 13,
   "id": "c252975b",
   "metadata": {},
   "outputs": [],
   "source": [
    "featureCols= ['bidirectional_duration_ms','bidirectional_packets','bidirectional_bytes',\n",
    "              'src2dst_packets','src2dst_bytes','dst2src_packets','dst2src_bytes',\n",
    "              'dst2src_duration_ms','src2dst_duration_ms']"
   ]
  },
  {
   "cell_type": "code",
   "execution_count": 14,
   "id": "59b8db02",
   "metadata": {},
   "outputs": [
    {
     "ename": "SyntaxError",
     "evalue": "invalid syntax (1266613787.py, line 1)",
     "output_type": "error",
     "traceback": [
      "\u001b[1;36m  Cell \u001b[1;32mIn[14], line 1\u001b[1;36m\u001b[0m\n\u001b[1;33m    featureCols=\u001b[0m\n\u001b[1;37m                ^\u001b[0m\n\u001b[1;31mSyntaxError\u001b[0m\u001b[1;31m:\u001b[0m invalid syntax\n"
     ]
    }
   ],
   "source": [
    "featureCols="
   ]
  },
  {
   "cell_type": "code",
   "execution_count": null,
   "id": "7e81c580",
   "metadata": {},
   "outputs": [],
   "source": [
    "len(featureCols)"
   ]
  },
  {
   "cell_type": "code",
   "execution_count": null,
   "id": "f38163f7",
   "metadata": {},
   "outputs": [],
   "source": [
    "# put features into a feature vector column\n",
    "from pyspark.ml.linalg import Vectors\n",
    "from pyspark.ml.feature import VectorAssembler\n",
    "\n",
    "\n",
    "assembler = VectorAssembler(inputCols=featureCols, outputCol=\"features\") \n",
    "assembled_df = assembler.transform(df)"
   ]
  },
  {
   "cell_type": "code",
   "execution_count": null,
   "id": "0a0c46ca",
   "metadata": {},
   "outputs": [],
   "source": []
  },
  {
   "cell_type": "code",
   "execution_count": null,
   "id": "417259d9",
   "metadata": {},
   "outputs": [],
   "source": [
    "assembled_df.limit(2).toPandas()"
   ]
  },
  {
   "cell_type": "code",
   "execution_count": null,
   "id": "409be960",
   "metadata": {},
   "outputs": [],
   "source": [
    "assembled_df.columns"
   ]
  },
  {
   "cell_type": "code",
   "execution_count": null,
   "id": "d26fe339",
   "metadata": {},
   "outputs": [],
   "source": [
    "assembled_df.select(\"features\").show()"
   ]
  },
  {
   "cell_type": "markdown",
   "id": "52408d2e",
   "metadata": {},
   "source": [
    "<a id=\"2\"></a>\n",
    "# <p style=\"background-color:lightpink;font-family:newtimeroman;color:#FFF9ED;font-size:150%;text-align:center;border-radius:10px 10px;\">1.CREATING NEW DATAFRAME(model_df) FOR ML MODEL</p>"
   ]
  },
  {
   "cell_type": "code",
   "execution_count": null,
   "id": "dbe2e876",
   "metadata": {},
   "outputs": [],
   "source": [
    "assembled_df.columns"
   ]
  },
  {
   "cell_type": "code",
   "execution_count": null,
   "id": "283bd383",
   "metadata": {},
   "outputs": [],
   "source": [
    "# Inspect the result\n",
    "assembled_df.select(\"Target\", \"features\").show(2, truncate=False)"
   ]
  },
  {
   "cell_type": "code",
   "execution_count": null,
   "id": "bdf57d11",
   "metadata": {},
   "outputs": [],
   "source": [
    "model_df = assembled_df.select(['Target','features'])"
   ]
  },
  {
   "cell_type": "code",
   "execution_count": null,
   "id": "6d81fc95",
   "metadata": {},
   "outputs": [],
   "source": [
    "# Inspect the result\n",
    "model_df.select(\"Target\", \"features\").show(2, truncate=False)"
   ]
  },
  {
   "cell_type": "markdown",
   "id": "893ca483",
   "metadata": {},
   "source": [
    "<a id=\"2\"></a>\n",
    "# <p style=\"background-color:lightpink;font-family:newtimeroman;color:#FFF9ED;font-size:150%;text-align:center;border-radius:10px 10px;\">Random Forest Classifier</p>"
   ]
  },
  {
   "cell_type": "code",
   "execution_count": null,
   "id": "bde68035",
   "metadata": {},
   "outputs": [],
   "source": [
    "from pyspark.ml.classification import RandomForestClassifier"
   ]
  },
  {
   "cell_type": "code",
   "execution_count": null,
   "id": "7bbcbb3f",
   "metadata": {},
   "outputs": [],
   "source": [
    "train_data, test_data,validation_data = model_df.randomSplit([0.2, 0.2, 0.6])"
   ]
  },
  {
   "cell_type": "code",
   "execution_count": null,
   "id": "2ec23632",
   "metadata": {},
   "outputs": [],
   "source": [
    "rf_classifier=RandomForestClassifier(labelCol='Target',numTrees=50).fit(train_data)"
   ]
  },
  {
   "cell_type": "code",
   "execution_count": null,
   "id": "7bfda95e",
   "metadata": {},
   "outputs": [],
   "source": [
    "rf_predictions=rf_classifier.transform(test_data)"
   ]
  },
  {
   "cell_type": "code",
   "execution_count": null,
   "id": "8a26694a",
   "metadata": {},
   "outputs": [],
   "source": [
    "rf_predictions.show()"
   ]
  },
  {
   "cell_type": "code",
   "execution_count": null,
   "id": "7f0b3c80",
   "metadata": {},
   "outputs": [],
   "source": [
    "rf_predictions.groupBy('prediction').count().show()"
   ]
  },
  {
   "cell_type": "code",
   "execution_count": null,
   "id": "a8abc119",
   "metadata": {},
   "outputs": [],
   "source": [
    "rf_predictions.select(['probability','Target','prediction']).show(10,False)"
   ]
  },
  {
   "cell_type": "code",
   "execution_count": null,
   "id": "63940b97",
   "metadata": {},
   "outputs": [],
   "source": [
    "from pyspark.ml.evaluation import BinaryClassificationEvaluator"
   ]
  },
  {
   "cell_type": "code",
   "execution_count": null,
   "id": "993c80a2",
   "metadata": {},
   "outputs": [],
   "source": [
    "from pyspark.ml.evaluation import MulticlassClassificationEvaluator"
   ]
  },
  {
   "cell_type": "code",
   "execution_count": null,
   "id": "00d1e61f",
   "metadata": {},
   "outputs": [],
   "source": [
    "rf_accuracy=MulticlassClassificationEvaluator(labelCol='Target',metricName='accuracy').evaluate(rf_predictions)"
   ]
  },
  {
   "cell_type": "code",
   "execution_count": null,
   "id": "ab14acec",
   "metadata": {},
   "outputs": [],
   "source": [
    "print('The accuracy of RF on test data is {0:.0%}'.format(rf_accuracy))"
   ]
  },
  {
   "cell_type": "code",
   "execution_count": null,
   "id": "f940eab2",
   "metadata": {},
   "outputs": [],
   "source": [
    "print(rf_accuracy)"
   ]
  },
  {
   "cell_type": "code",
   "execution_count": null,
   "id": "c7f7a25a",
   "metadata": {},
   "outputs": [],
   "source": [
    "rf_precision=MulticlassClassificationEvaluator(labelCol='Target',metricName='weightedPrecision').evaluate(rf_predictions)"
   ]
  },
  {
   "cell_type": "code",
   "execution_count": null,
   "id": "2805c6ee",
   "metadata": {},
   "outputs": [],
   "source": [
    "print('The precision rate on test data is {0:.0%}'.format(rf_precision))"
   ]
  },
  {
   "cell_type": "code",
   "execution_count": null,
   "id": "9885fada",
   "metadata": {},
   "outputs": [],
   "source": [
    "rf_precision"
   ]
  },
  {
   "cell_type": "code",
   "execution_count": null,
   "id": "cc2b847d",
   "metadata": {},
   "outputs": [],
   "source": [
    "rf_auc=BinaryClassificationEvaluator(labelCol='Target').evaluate(rf_predictions)"
   ]
  },
  {
   "cell_type": "code",
   "execution_count": null,
   "id": "49b87461",
   "metadata": {},
   "outputs": [],
   "source": [
    "print(rf_auc)"
   ]
  },
  {
   "cell_type": "code",
   "execution_count": null,
   "id": "01d6916a",
   "metadata": {},
   "outputs": [],
   "source": [
    "rf_classifier.featureImportances"
   ]
  },
  {
   "cell_type": "code",
   "execution_count": null,
   "id": "4a8daa59",
   "metadata": {},
   "outputs": [],
   "source": [
    "#END 15-2-2023\n"
   ]
  },
  {
   "cell_type": "code",
   "execution_count": null,
   "id": "35a67843",
   "metadata": {},
   "outputs": [],
   "source": [
    "m"
   ]
  },
  {
   "cell_type": "code",
   "execution_count": null,
   "id": "aeb90f02",
   "metadata": {},
   "outputs": [],
   "source": []
  },
  {
   "cell_type": "code",
   "execution_count": null,
   "id": "9b3e4514",
   "metadata": {},
   "outputs": [],
   "source": []
  },
  {
   "cell_type": "code",
   "execution_count": null,
   "id": "84b5e279",
   "metadata": {},
   "outputs": [],
   "source": []
  },
  {
   "cell_type": "code",
   "execution_count": null,
   "id": "bdb07dbf",
   "metadata": {},
   "outputs": [],
   "source": []
  },
  {
   "cell_type": "code",
   "execution_count": null,
   "id": "e982d454",
   "metadata": {},
   "outputs": [],
   "source": [
    "pwd"
   ]
  },
  {
   "cell_type": "code",
   "execution_count": null,
   "id": "366dc28f",
   "metadata": {},
   "outputs": [],
   "source": [
    "rf_classifier.save('C:/Users/abhi/Desktop/data Engineer/pysparkproject/mrfmodel')"
   ]
  },
  {
   "cell_type": "code",
   "execution_count": null,
   "id": "97a11073",
   "metadata": {},
   "outputs": [],
   "source": [
    " pwd"
   ]
  },
  {
   "cell_type": "code",
   "execution_count": null,
   "id": "eeba17f3",
   "metadata": {},
   "outputs": [],
   "source": [
    "from pyspark.ml.classification import RandomForestClassificationModel"
   ]
  },
  {
   "cell_type": "code",
   "execution_count": null,
   "id": "6b6d23ae",
   "metadata": {},
   "outputs": [],
   "source": [
    "rf=RandomForestClassificationModel.load('C:/Users/abhi/Desktop/data Engineer/pysparkproject/mrfmodel')"
   ]
  },
  {
   "cell_type": "code",
   "execution_count": null,
   "id": "13a35661",
   "metadata": {},
   "outputs": [],
   "source": [
    "model_preditions=rf.transform(test_data)"
   ]
  },
  {
   "cell_type": "code",
   "execution_count": null,
   "id": "f85fe11d",
   "metadata": {},
   "outputs": [],
   "source": [
    "model_preditions.show()"
   ]
  },
  {
   "cell_type": "code",
   "execution_count": null,
   "id": "9de11e82",
   "metadata": {},
   "outputs": [],
   "source": []
  },
  {
   "cell_type": "markdown",
   "id": "4e8790f3",
   "metadata": {},
   "source": [
    "\n",
    "\n",
    "<a id=\"2\"></a>\n",
    "# <p style=\"background-color:lightpink;font-family:newtimeroman;color:#FFF9ED;font-size:150%;text-align:center;border-radius:10px 10px;\">STANDARD SCALER</p>"
   ]
  },
  {
   "cell_type": "code",
   "execution_count": null,
   "id": "f4e5dce7",
   "metadata": {},
   "outputs": [],
   "source": [
    "standardScaler = StandardScaler(inputCol=\"features\", outputCol=\"features_scaled\")\n",
    "scaled_df = standardScaler.fit(assembled_df).transform(assembled_df)"
   ]
  },
  {
   "cell_type": "code",
   "execution_count": null,
   "id": "6cdfe933",
   "metadata": {},
   "outputs": [],
   "source": [
    "scaled_df.limit(1).toPandas()"
   ]
  },
  {
   "cell_type": "code",
   "execution_count": null,
   "id": "f0fd9fcf",
   "metadata": {},
   "outputs": [],
   "source": [
    "# Inspect the result\n",
    "scaled_df.select(\"Target\", \"features_scaled\").show(2, truncate=False)"
   ]
  },
  {
   "cell_type": "markdown",
   "id": "1ee2c56f",
   "metadata": {},
   "source": [
    "<a id=\"2\"></a>\n",
    "# <p style=\"background-color:lightpink;font-family:newtimeroman;color:#FFF9ED;font-size:150%;text-align:center;border-radius:10px 10px;\">CREATING NEW DATAFRAME(model_df) FOR ML MODEL</p>"
   ]
  },
  {
   "cell_type": "code",
   "execution_count": null,
   "id": "d2e545d5",
   "metadata": {},
   "outputs": [],
   "source": [
    "model_df = scaled_df.select(['Target','features_scaled'])"
   ]
  },
  {
   "cell_type": "code",
   "execution_count": null,
   "id": "99fc29d6",
   "metadata": {},
   "outputs": [],
   "source": [
    "model_df.groupBy('Target').count().show()"
   ]
  },
  {
   "cell_type": "markdown",
   "id": "234e29e4",
   "metadata": {},
   "source": [
    "\n",
    "<a id=\"2\"></a>\n",
    "# <p style=\"background-color:lightpink;font-family:newtimeroman;color:#FFF9ED;font-size:150%;text-align:center;border-radius:10px 10px;\">SPLIT DATASET INTO Train_data,Test_data AND Validation SET</p>"
   ]
  },
  {
   "cell_type": "code",
   "execution_count": null,
   "id": "a0bc2c9b",
   "metadata": {},
   "outputs": [],
   "source": [
    "train_data, test_data,validation_data = model_df.randomSplit([0.2, 0.2, 0.6])"
   ]
  },
  {
   "cell_type": "code",
   "execution_count": null,
   "id": "b96a5a2d",
   "metadata": {},
   "outputs": [],
   "source": [
    "print('Train Shape: ({}, {})'.format(train_data.count(), len(train_data.columns)))"
   ]
  },
  {
   "cell_type": "code",
   "execution_count": null,
   "id": "3092015a",
   "metadata": {},
   "outputs": [],
   "source": [
    "print('Test Shape: ({}, {})'.format(test_data.count(), len(test_data.columns)))"
   ]
  },
  {
   "cell_type": "code",
   "execution_count": null,
   "id": "e170064f",
   "metadata": {},
   "outputs": [],
   "source": [
    "print('validity: ({}, {})'.format(validation_data.count(), len(validation_data.columns)))"
   ]
  },
  {
   "cell_type": "markdown",
   "id": "b836d451",
   "metadata": {},
   "source": [
    "\n",
    "<a id=\"4\"></a>\n",
    "# <p style=\"background-color:#682F2F;font-family:newtimeroman;color:#FFF9ED;font-size:150%;text-align:center;border-radius:10px 10px;\">model</p>"
   ]
  },
  {
   "cell_type": "code",
   "execution_count": null,
   "id": "726fd22f",
   "metadata": {},
   "outputs": [],
   "source": [
    "from pyspark.ml.classification import RandomForestClassifier"
   ]
  },
  {
   "cell_type": "code",
   "execution_count": null,
   "id": "7fa78015",
   "metadata": {},
   "outputs": [],
   "source": [
    "rf_classifier=RandomForestClassifier(labelCol='Target',numTrees=50).fit(train_data)"
   ]
  },
  {
   "cell_type": "code",
   "execution_count": null,
   "id": "53ecd6a7",
   "metadata": {},
   "outputs": [],
   "source": [
    "rf_predictions=rf_classifier.transform(test_df)"
   ]
  },
  {
   "cell_type": "code",
   "execution_count": null,
   "id": "c5830314",
   "metadata": {},
   "outputs": [],
   "source": [
    "rf_predictions.show()"
   ]
  },
  {
   "cell_type": "code",
   "execution_count": null,
   "id": "de21931b",
   "metadata": {},
   "outputs": [],
   "source": []
  },
  {
   "cell_type": "code",
   "execution_count": null,
   "id": "336c75b0",
   "metadata": {},
   "outputs": [],
   "source": []
  },
  {
   "cell_type": "markdown",
   "id": "c1866df6",
   "metadata": {},
   "source": [
    "\n",
    "\n",
    "<a id=\"4\"></a>\n",
    "# <p style=\"background-color:#682F2F;font-family:newtimeroman;color:#FFF9ED;font-size:150%;text-align:center;border-radius:10px 10px;\">CREATING CSV FILE FROM OF Train_data.csv,test_data.csv and validation.csv</p>\n",
    "\n",
    "\n",
    "\n"
   ]
  },
  {
   "cell_type": "code",
   "execution_count": null,
   "id": "0e4809bf",
   "metadata": {},
   "outputs": [],
   "source": [
    "for col in train_data.columns:\n",
    "    df1 = train_data.withColumn(col,train_data[col].cast(StringType()))"
   ]
  },
  {
   "cell_type": "code",
   "execution_count": null,
   "id": "2cf2f9df",
   "metadata": {},
   "outputs": [],
   "source": [
    "df2.write.options(header='True', delimiter=',') \\\n",
    " .csv(\"/tmp/spark_output/zipcodes\")"
   ]
  },
  {
   "cell_type": "code",
   "execution_count": null,
   "id": "f345a2a5",
   "metadata": {},
   "outputs": [],
   "source": [
    "df1.coalesce(1).write.options(header='True').mode('overwrite').csv(\"C:/Users/abhi/Desktop/data Engineer/pysparkproject/train121\")"
   ]
  },
  {
   "cell_type": "code",
   "execution_count": null,
   "id": "f1815eb7",
   "metadata": {},
   "outputs": [],
   "source": [
    "for col in test_data.columns:\n",
    "    df2 = test_data.withColumn(col, test_data[col].cast(StringType()))"
   ]
  },
  {
   "cell_type": "code",
   "execution_count": null,
   "id": "49062403",
   "metadata": {},
   "outputs": [],
   "source": [
    "df2.coalesce(1).write.options(header='True').mode('overwrite').csv(\"C:/Users/abhi/Desktop/data Engineer/pysparkproject/test\")"
   ]
  },
  {
   "cell_type": "code",
   "execution_count": null,
   "id": "65ea2644",
   "metadata": {},
   "outputs": [],
   "source": [
    "for col in validation_data.columns:\n",
    "    df3 = validation_data.withColumn(col, validation_data[col].cast(StringType()))"
   ]
  },
  {
   "cell_type": "code",
   "execution_count": null,
   "id": "9de82fc5",
   "metadata": {},
   "outputs": [],
   "source": [
    "df3.coalesce(1).write.options(header='True').mode('overwrite').csv(\"C:/Users/abhi/Desktop/data Engineer/pysparkproject/validation121\")"
   ]
  },
  {
   "cell_type": "code",
   "execution_count": null,
   "id": "210bca2c",
   "metadata": {},
   "outputs": [],
   "source": [
    "pwd"
   ]
  },
  {
   "cell_type": "markdown",
   "id": "86c51043",
   "metadata": {},
   "source": [
    "<a id=\"2\"></a>\n",
    "# <p style=\"background-color:lightpink;font-family:newtimeroman;color:#FFF9ED;font-size:150%;text-align:center;border-radius:10px 10px;\">TRAINING AND MODEL FIT </p>"
   ]
  },
  {
   "cell_type": "markdown",
   "id": "32b14d86",
   "metadata": {},
   "source": [
    "#work on progress"
   ]
  }
 ],
 "metadata": {
  "kernelspec": {
   "display_name": "Python 3 (ipykernel)",
   "language": "python",
   "name": "python3"
  },
  "language_info": {
   "codemirror_mode": {
    "name": "ipython",
    "version": 3
   },
   "file_extension": ".py",
   "mimetype": "text/x-python",
   "name": "python",
   "nbconvert_exporter": "python",
   "pygments_lexer": "ipython3",
   "version": "3.8.15"
  }
 },
 "nbformat": 4,
 "nbformat_minor": 5
}
