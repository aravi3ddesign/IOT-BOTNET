{
 "cells": [
  {
   "cell_type": "code",
   "execution_count": 1,
   "metadata": {},
   "outputs": [],
   "source": [
    "\n",
    "import pyspark\n",
    "import findspark\n",
    "from pyspark.sql import SparkSession\n",
    "from pyspark import SparkConf, SparkContext\n",
    "from pyspark.sql import SparkSession, SQLContext\n",
    "from pyspark.sql.types import *\n",
    "import pyspark.sql.functions as F\n",
    "from pyspark.sql.functions import udf, col\n",
    "import pandas as pd\n",
    "import numpy as np\n",
    "from pyspark.ml.feature import VectorAssembler, StandardScaler\n",
    "from pyspark.ml import Pipeline\n",
    "from pyspark.ml.linalg import Vectors\n",
    "from pyspark.ml.feature import VectorAssembler\n",
    "#from pyspark.ml.regression import LinearRegression\n",
    "from pyspark.mllib.evaluation import RegressionMetrics\n",
    "from pyspark.ml.tuning import ParamGridBuilder, CrossValidator, CrossValidatorModel\n",
    "from pyspark.ml.feature import VectorAssembler, StandardScaler\n",
    "from pyspark.ml.evaluation import RegressionEvaluator"
   ]
  },
  {
   "cell_type": "code",
   "execution_count": 2,
   "metadata": {
    "scrolled": true
   },
   "outputs": [
    {
     "data": {
      "text/html": [
       "\n",
       "            <div>\n",
       "                <p><b>SparkSession - in-memory</b></p>\n",
       "                \n",
       "        <div>\n",
       "            <p><b>SparkContext</b></p>\n",
       "\n",
       "            <p><a href=\"http://DESKTOP-0DFIU6N:4041\">Spark UI</a></p>\n",
       "\n",
       "            <dl>\n",
       "              <dt>Version</dt>\n",
       "                <dd><code>v3.3.1</code></dd>\n",
       "              <dt>Master</dt>\n",
       "                <dd><code>local[1]</code></dd>\n",
       "              <dt>AppName</dt>\n",
       "                <dd><code>Major Project</code></dd>\n",
       "            </dl>\n",
       "        </div>\n",
       "        \n",
       "            </div>\n",
       "        "
      ],
      "text/plain": [
       "<pyspark.sql.session.SparkSession at 0x2815929f670>"
      ]
     },
     "execution_count": 2,
     "metadata": {},
     "output_type": "execute_result"
    }
   ],
   "source": [
    "from pyspark.sql import SparkSession\n",
    "spark= SparkSession.builder. \\\n",
    "appName(\"Major Project\").\\\n",
    "master(\"local[1]\").\\\n",
    "config(\"spark.memory.offHeap.enabled\",\"true\"). \\\n",
    "config(\"spark.memory.offHeap.size\",\"10g\").getOrCreate()\n",
    "spark\n",
    "\n",
    "\n"
   ]
  },
  {
   "cell_type": "markdown",
   "metadata": {},
   "source": [
    "# Regression "
   ]
  },
  {
   "cell_type": "code",
   "execution_count": 3,
   "metadata": {},
   "outputs": [],
   "source": [
    "df=spark.read.csv(r\"C:/Users/abhi/Desktop/project feb2023/major project code/small dataset/train2.csv\",inferSchema=True,header=True)"
   ]
  },
  {
   "cell_type": "markdown",
   "metadata": {},
   "source": [
    "print('Number of rows: \\t', df.count())\n",
    "print('Number of columns: \\t', len(df.columns))"
   ]
  },
  {
   "cell_type": "markdown",
   "metadata": {},
   "source": [
    "#df.show(10)\n",
    "df.columns"
   ]
  },
  {
   "cell_type": "code",
   "execution_count": 4,
   "metadata": {},
   "outputs": [
    {
     "name": "stdout",
     "output_type": "stream",
     "text": [
      "root\n",
      " |-- bidirectional_duration_ms: integer (nullable = true)\n",
      " |-- bidirectional_packets: integer (nullable = true)\n",
      " |-- bidirectional_bytes: integer (nullable = true)\n",
      " |-- src2dst_first_seen_ms: long (nullable = true)\n",
      " |-- src2dst_last_seen_ms: long (nullable = true)\n",
      " |-- src2dst_packets: integer (nullable = true)\n",
      " |-- src2dst_bytes: integer (nullable = true)\n",
      " |-- dst2src_first_seen_ms: long (nullable = true)\n",
      " |-- dst2src_last_seen_ms: long (nullable = true)\n",
      " |-- dst2src_packets: integer (nullable = true)\n",
      " |-- dst2src_bytes: integer (nullable = true)\n",
      " |-- dst2src_duration_ms: integer (nullable = true)\n",
      " |-- src2dst_duration_ms: integer (nullable = true)\n",
      " |-- Target: integer (nullable = true)\n",
      "\n"
     ]
    }
   ],
   "source": [
    "#dataype of input data \n",
    "df.printSchema()"
   ]
  },
  {
   "cell_type": "code",
   "execution_count": 5,
   "metadata": {},
   "outputs": [
    {
     "name": "stdout",
     "output_type": "stream",
     "text": [
      "+------+-------+\n",
      "|Target|  count|\n",
      "+------+-------+\n",
      "|     1|6637795|\n",
      "|     0|    555|\n",
      "+------+-------+\n",
      "\n"
     ]
    }
   ],
   "source": [
    "df.groupBy('Target').count().show()"
   ]
  },
  {
   "cell_type": "code",
   "execution_count": 6,
   "metadata": {},
   "outputs": [],
   "source": [
    "from pyspark.sql.types import *\n",
    "for col in df.columns:\n",
    "    df = df.withColumn(col, df[col].cast(IntegerType()))"
   ]
  },
  {
   "cell_type": "code",
   "execution_count": 7,
   "metadata": {},
   "outputs": [],
   "source": [
    "import pyspark.sql.functions as f\n",
    "from pyspark.sql.types import *\n",
    "\n",
    "from pyspark.ml.pipeline import Pipeline\n",
    "from pyspark.ml.feature import OneHotEncoder, StandardScaler, VectorAssembler, StringIndexer, Imputer\n",
    "\n",
    "from pyspark.ml.classification import RandomForestClassifier\n",
    "from pyspark.ml.evaluation import BinaryClassificationEvaluator\n",
    "\n",
    "import pandas as pd\n",
    "import numpy as np\n",
    "import matplotlib.pyplot as plt"
   ]
  },
  {
   "cell_type": "code",
   "execution_count": 8,
   "metadata": {},
   "outputs": [],
   "source": [
    "\n",
    "pipe_stages= []\n",
    "\n",
    "# create the un-standardized features vector\n",
    "featureCols= ['bidirectional_duration_ms','bidirectional_packets','bidirectional_bytes',\n",
    "              'src2dst_packets','src2dst_bytes','dst2src_packets','dst2src_bytes',\n",
    "              'dst2src_duration_ms','src2dst_duration_ms']\n",
    "\n",
    "assembler= VectorAssembler(inputCols= featureCols,\n",
    "                           outputCol= \"features\",\n",
    "                           handleInvalid=\"keep\")\n",
    "pipe_stages += [assembler]\n",
    "\n",
    "# scale all features. \n",
    "ss= StandardScaler(inputCol=\"features\",\n",
    "                   outputCol=\"features_scale\",\n",
    "                   withMean= False,\n",
    "                   withStd=True)\n",
    "pipe_stages += [ss]\n",
    "\n",
    "rf = RandomForestClassifier(labelCol=\"Target\", featuresCol=\"features_scale\", seed = 8464,\n",
    "                            numTrees=10, cacheNodeIds = True, subsamplingRate = 0.7)\n",
    "pipe_stages += [rf]\n",
    "\n",
    "pipe= Pipeline(stages= pipe_stages)"
   ]
  },
  {
   "cell_type": "code",
   "execution_count": 9,
   "metadata": {},
   "outputs": [],
   "source": [
    "mod = pipe.fit(df)"
   ]
  },
  {
   "cell_type": "code",
   "execution_count": 10,
   "metadata": {},
   "outputs": [],
   "source": [
    "df2 = mod.transform(df)"
   ]
  },
  {
   "cell_type": "code",
   "execution_count": 11,
   "metadata": {},
   "outputs": [
    {
     "data": {
      "text/plain": [
       "SparseVector(9, {0: 0.141, 1: 0.0399, 2: 0.1155, 3: 0.0389, 4: 0.2439, 5: 0.0691, 6: 0.2106, 7: 0.0425, 8: 0.0986})"
      ]
     },
     "execution_count": 11,
     "metadata": {},
     "output_type": "execute_result"
    }
   ],
   "source": [
    "mod.stages[-1].featureImportances\n",
    "#df= pipe.fit(df).transform(df)"
   ]
  },
  {
   "cell_type": "code",
   "execution_count": 12,
   "metadata": {},
   "outputs": [],
   "source": [
    "def ExtractFeatureImp(featureImp, dataset, featuresCol):\n",
    "    list_extract = []\n",
    "    for i in dataset.schema[featuresCol].metadata[\"ml_attr\"][\"attrs\"]:\n",
    "        list_extract = list_extract + dataset.schema[featuresCol].metadata[\"ml_attr\"][\"attrs\"][i]\n",
    "    varlist = pd.DataFrame(list_extract)\n",
    "    varlist['score'] = varlist['idx'].apply(lambda x: featureImp[x])\n",
    "    return(varlist.sort_values('score', ascending = False))\n"
   ]
  },
  {
   "cell_type": "code",
   "execution_count": 13,
   "metadata": {},
   "outputs": [
    {
     "data": {
      "text/html": [
       "<div>\n",
       "<style scoped>\n",
       "    .dataframe tbody tr th:only-of-type {\n",
       "        vertical-align: middle;\n",
       "    }\n",
       "\n",
       "    .dataframe tbody tr th {\n",
       "        vertical-align: top;\n",
       "    }\n",
       "\n",
       "    .dataframe thead th {\n",
       "        text-align: right;\n",
       "    }\n",
       "</style>\n",
       "<table border=\"1\" class=\"dataframe\">\n",
       "  <thead>\n",
       "    <tr style=\"text-align: right;\">\n",
       "      <th></th>\n",
       "      <th>idx</th>\n",
       "      <th>name</th>\n",
       "      <th>score</th>\n",
       "    </tr>\n",
       "  </thead>\n",
       "  <tbody>\n",
       "    <tr>\n",
       "      <th>4</th>\n",
       "      <td>4</td>\n",
       "      <td>src2dst_bytes</td>\n",
       "      <td>0.243852</td>\n",
       "    </tr>\n",
       "    <tr>\n",
       "      <th>6</th>\n",
       "      <td>6</td>\n",
       "      <td>dst2src_bytes</td>\n",
       "      <td>0.210589</td>\n",
       "    </tr>\n",
       "    <tr>\n",
       "      <th>0</th>\n",
       "      <td>0</td>\n",
       "      <td>bidirectional_duration_ms</td>\n",
       "      <td>0.140972</td>\n",
       "    </tr>\n",
       "    <tr>\n",
       "      <th>2</th>\n",
       "      <td>2</td>\n",
       "      <td>bidirectional_bytes</td>\n",
       "      <td>0.115505</td>\n",
       "    </tr>\n",
       "    <tr>\n",
       "      <th>8</th>\n",
       "      <td>8</td>\n",
       "      <td>src2dst_duration_ms</td>\n",
       "      <td>0.098607</td>\n",
       "    </tr>\n",
       "    <tr>\n",
       "      <th>5</th>\n",
       "      <td>5</td>\n",
       "      <td>dst2src_packets</td>\n",
       "      <td>0.069139</td>\n",
       "    </tr>\n",
       "    <tr>\n",
       "      <th>7</th>\n",
       "      <td>7</td>\n",
       "      <td>dst2src_duration_ms</td>\n",
       "      <td>0.042514</td>\n",
       "    </tr>\n",
       "    <tr>\n",
       "      <th>1</th>\n",
       "      <td>1</td>\n",
       "      <td>bidirectional_packets</td>\n",
       "      <td>0.039931</td>\n",
       "    </tr>\n",
       "    <tr>\n",
       "      <th>3</th>\n",
       "      <td>3</td>\n",
       "      <td>src2dst_packets</td>\n",
       "      <td>0.038890</td>\n",
       "    </tr>\n",
       "  </tbody>\n",
       "</table>\n",
       "</div>"
      ],
      "text/plain": [
       "   idx                       name     score\n",
       "4    4              src2dst_bytes  0.243852\n",
       "6    6              dst2src_bytes  0.210589\n",
       "0    0  bidirectional_duration_ms  0.140972\n",
       "2    2        bidirectional_bytes  0.115505\n",
       "8    8        src2dst_duration_ms  0.098607\n",
       "5    5            dst2src_packets  0.069139\n",
       "7    7        dst2src_duration_ms  0.042514\n",
       "1    1      bidirectional_packets  0.039931\n",
       "3    3            src2dst_packets  0.038890"
      ]
     },
     "execution_count": 13,
     "metadata": {},
     "output_type": "execute_result"
    }
   ],
   "source": [
    " ExtractFeatureImp(mod.stages[-1].featureImportances, df2, \"features\").head(10)"
   ]
  },
  {
   "cell_type": "code",
   "execution_count": 14,
   "metadata": {},
   "outputs": [],
   "source": [
    "varlist = ExtractFeatureImp(mod.stages[-1].featureImportances, df2, \"features\")"
   ]
  },
  {
   "cell_type": "code",
   "execution_count": 15,
   "metadata": {},
   "outputs": [
    {
     "name": "stderr",
     "output_type": "stream",
     "text": [
      "C:\\Users\\abhi\\AppData\\Local\\Temp\\ipykernel_10832\\2913626644.py:1: FutureWarning: The behavior of `series[i:j]` with an integer-dtype index is deprecated. In a future version, this will be treated as *label-based* indexing, consistent with e.g. `series[i]` lookups. To retain the old behavior, use `series.iloc[i:j]`. To get the future behavior, use `series.loc[i:j]`.\n",
      "  varidx = [x for x in varlist['idx'][0:4]]\n"
     ]
    }
   ],
   "source": [
    "varidx = [x for x in varlist['idx'][0:4]]"
   ]
  },
  {
   "cell_type": "code",
   "execution_count": 16,
   "metadata": {},
   "outputs": [
    {
     "data": {
      "text/plain": [
       "[4, 6, 0, 2]"
      ]
     },
     "execution_count": 16,
     "metadata": {},
     "output_type": "execute_result"
    }
   ],
   "source": [
    "varidx  "
   ]
  },
  {
   "cell_type": "code",
   "execution_count": null,
   "metadata": {},
   "outputs": [],
   "source": []
  },
  {
   "cell_type": "code",
   "execution_count": null,
   "metadata": {},
   "outputs": [],
   "source": []
  },
  {
   "cell_type": "code",
   "execution_count": null,
   "metadata": {},
   "outputs": [],
   "source": []
  },
  {
   "cell_type": "code",
   "execution_count": null,
   "metadata": {},
   "outputs": [],
   "source": []
  },
  {
   "cell_type": "code",
   "execution_count": 43,
   "metadata": {},
   "outputs": [],
   "source": [
    "pipe_stages1= []\n",
    "\n",
    "# create the un-standardized features vector\n",
    "featureCols1= ['src2dst_bytes',\n",
    "              'dst2src_bytes',\n",
    "              'bidirectional_duration_ms',\n",
    "              'bidirectional_bytes',\n",
    "              ]\n",
    "\n",
    "assembler= VectorAssembler(inputCols= featureCols1,\n",
    "                           outputCol= \"features1\",\n",
    "                           handleInvalid=\"keep\")\n",
    "pipe_stages1 += [assembler]\n",
    "\n",
    "# scale all features. \n",
    "ss= StandardScaler(inputCol=\"features1\",\n",
    "                   outputCol=\"features_scaled\",\n",
    "                   withMean= False,\n",
    "                   withStd=True)\n",
    "pipe_stages1 += [ss]\n",
    "\n",
    "\n",
    "\n",
    "\n",
    "pipe2= Pipeline(stages= pipe_stages1)\n",
    "\n"
   ]
  },
  {
   "cell_type": "code",
   "execution_count": 44,
   "metadata": {},
   "outputs": [],
   "source": [
    "mod2 = pipe2.fit(df)"
   ]
  },
  {
   "cell_type": "code",
   "execution_count": 45,
   "metadata": {},
   "outputs": [],
   "source": [
    "df3 = mod2.transform(df)"
   ]
  },
  {
   "cell_type": "code",
   "execution_count": 52,
   "metadata": {},
   "outputs": [
    {
     "data": {
      "text/plain": [
       "['bidirectional_duration_ms',\n",
       " 'bidirectional_packets',\n",
       " 'bidirectional_bytes',\n",
       " 'src2dst_first_seen_ms',\n",
       " 'src2dst_last_seen_ms',\n",
       " 'src2dst_packets',\n",
       " 'src2dst_bytes',\n",
       " 'dst2src_first_seen_ms',\n",
       " 'dst2src_last_seen_ms',\n",
       " 'dst2src_packets',\n",
       " 'dst2src_bytes',\n",
       " 'dst2src_duration_ms',\n",
       " 'src2dst_duration_ms',\n",
       " 'Target']"
      ]
     },
     "execution_count": 52,
     "metadata": {},
     "output_type": "execute_result"
    }
   ],
   "source": [
    "df.columns"
   ]
  },
  {
   "cell_type": "code",
   "execution_count": 53,
   "metadata": {},
   "outputs": [
    {
     "data": {
      "text/plain": [
       "['bidirectional_duration_ms',\n",
       " 'bidirectional_packets',\n",
       " 'bidirectional_bytes',\n",
       " 'src2dst_first_seen_ms',\n",
       " 'src2dst_last_seen_ms',\n",
       " 'src2dst_packets',\n",
       " 'src2dst_bytes',\n",
       " 'dst2src_first_seen_ms',\n",
       " 'dst2src_last_seen_ms',\n",
       " 'dst2src_packets',\n",
       " 'dst2src_bytes',\n",
       " 'dst2src_duration_ms',\n",
       " 'src2dst_duration_ms',\n",
       " 'Target',\n",
       " 'features',\n",
       " 'features_scale',\n",
       " 'rawPrediction',\n",
       " 'probability',\n",
       " 'prediction']"
      ]
     },
     "execution_count": 53,
     "metadata": {},
     "output_type": "execute_result"
    }
   ],
   "source": [
    "df2.columns"
   ]
  },
  {
   "cell_type": "code",
   "execution_count": 54,
   "metadata": {},
   "outputs": [
    {
     "data": {
      "text/plain": [
       "['bidirectional_duration_ms',\n",
       " 'bidirectional_packets',\n",
       " 'bidirectional_bytes',\n",
       " 'src2dst_first_seen_ms',\n",
       " 'src2dst_last_seen_ms',\n",
       " 'src2dst_packets',\n",
       " 'src2dst_bytes',\n",
       " 'dst2src_first_seen_ms',\n",
       " 'dst2src_last_seen_ms',\n",
       " 'dst2src_packets',\n",
       " 'dst2src_bytes',\n",
       " 'dst2src_duration_ms',\n",
       " 'src2dst_duration_ms',\n",
       " 'Target',\n",
       " 'features1',\n",
       " 'features_scaled']"
      ]
     },
     "execution_count": 54,
     "metadata": {},
     "output_type": "execute_result"
    }
   ],
   "source": [
    "df3.columns"
   ]
  },
  {
   "cell_type": "code",
   "execution_count": null,
   "metadata": {},
   "outputs": [],
   "source": []
  },
  {
   "cell_type": "code",
   "execution_count": 55,
   "metadata": {},
   "outputs": [],
   "source": [
    "from pyspark.ml.classification import RandomForestClassifier\n",
    "\n",
    "train_data, test_data = df3.randomSplit([0.7, 0.3])"
   ]
  },
  {
   "cell_type": "code",
   "execution_count": 57,
   "metadata": {},
   "outputs": [
    {
     "name": "stdout",
     "output_type": "stream",
     "text": [
      "total time 364.4237654209137\n"
     ]
    }
   ],
   "source": [
    "from pyspark.ml.classification import RandomForestClassifier\n",
    "import time\n",
    "\n",
    "rf = RandomForestClassifier(labelCol=\"Target\", featuresCol=\"features_scaled\", seed = 8464,\n",
    "                            numTrees=10, cacheNodeIds = True, subsamplingRate = 0.7)\n",
    "\n",
    "start = time.time()\n",
    "rfModel = rf.fit(train_data)\n",
    "end = time.time()\n",
    "print(\"total time\",end - start)"
   ]
  },
  {
   "cell_type": "code",
   "execution_count": 64,
   "metadata": {},
   "outputs": [
    {
     "name": "stdout",
     "output_type": "stream",
     "text": [
      "total time 0.10040736198425293\n"
     ]
    }
   ],
   "source": [
    "start = time.time()\n",
    "\n",
    "predictions = rfModel.transform(test_data)\n",
    "\n",
    "end = time.time()\n",
    "print(\"total time\",end - start)"
   ]
  },
  {
   "cell_type": "code",
   "execution_count": 65,
   "metadata": {},
   "outputs": [],
   "source": [
    "from pyspark.ml.evaluation import BinaryClassificationEvaluator, MulticlassClassificationEvaluator\n",
    "from pyspark.ml import Pipeline, Model\n",
    "from pyspark.ml.tuning import CrossValidator, ParamGridBuilder"
   ]
  },
  {
   "cell_type": "code",
   "execution_count": 66,
   "metadata": {},
   "outputs": [],
   "source": [
    "# Build the evaluator\n",
    "evaluator = MulticlassClassificationEvaluator(\n",
    "    labelCol=\"Target\", predictionCol=\"prediction\", metricName=\"weightedFMeasure\", metricLabel=1.0, beta = 2.0)"
   ]
  },
  {
   "cell_type": "code",
   "execution_count": 67,
   "metadata": {},
   "outputs": [
    {
     "name": "stdout",
     "output_type": "stream",
     "text": [
      "F-2 score:  0.9999170712246455 \n",
      "\n",
      "Weighted Precision:  0.9999286837126932 \n",
      "\n",
      "Weighted Recall:  0.9999286786258882 \n",
      " \n",
      " \n",
      "\n",
      "F-1 Score:  0.9999025777452536 \n",
      "\n",
      "Precision:  0.9999286776945014 \n",
      "\n",
      "Recall:  1.0 \n",
      "\n"
     ]
    }
   ],
   "source": [
    "# Print out scores\n",
    "print(\"F-2 score: \", evaluator.evaluate(predictions,  {evaluator.metricName: \"weightedFMeasure\"}), \"\\n\")\n",
    "print(\"Weighted Precision: \", evaluator.evaluate(predictions,  {evaluator.metricName: \"weightedPrecision\"}), \"\\n\")\n",
    "print(\"Weighted Recall: \", evaluator.evaluate(predictions,  {evaluator.metricName: \"weightedRecall\"}), \"\\n\",\"\\n\",\"\\n\")\n",
    "\n",
    "\n",
    "print(\"F-1 Score: \", evaluator.evaluate(predictions,  {evaluator.metricName: \"f1\"}), \"\\n\")\n",
    "print(\"Precision: \", evaluator.evaluate(predictions,  {evaluator.metricName: \"precisionByLabel\"}), \"\\n\")\n",
    "print(\"Recall: \",evaluator.evaluate(predictions,  {evaluator.metricName: \"recallByLabel\"}), \"\\n\")"
   ]
  },
  {
   "cell_type": "code",
   "execution_count": 68,
   "metadata": {},
   "outputs": [],
   "source": [
    "#Predict on training\n",
    "prediction_train = rfModel.transform(train_data)\n",
    "\n",
    "y_pred_train=prediction_train.select(\"prediction\").collect()\n",
    "y_orig_train=prediction_train.select(\"Target\").collect()"
   ]
  },
  {
   "cell_type": "code",
   "execution_count": 73,
   "metadata": {},
   "outputs": [
    {
     "data": {
      "image/png": "[encoded data removed]",
      "text/plain": [
       "<Figure size 640x480 with 2 Axes>"
      ]
     },
     "metadata": {},
     "output_type": "display_data"
    }
   ],
   "source": [
    "from sklearn.metrics import confusion_matrix, ConfusionMatrixDisplay\n",
    "#import matplotlib as plt\n",
    "\n",
    "cm_train = confusion_matrix(y_orig_train, y_pred_train)\n",
    "\n",
    "import matplotlib.pyplot as plt\n",
    "disp = ConfusionMatrixDisplay(confusion_matrix=cm_train)\n",
    "disp.plot()\n",
    "\n",
    "plt.savefig('confusion_matrix_train.png')\n",
    "plt.show()\n"
   ]
  },
  {
   "cell_type": "code",
   "execution_count": 74,
   "metadata": {},
   "outputs": [
    {
     "name": "stdout",
     "output_type": "stream",
     "text": [
      "Area under ROC Curve: 0.9575\n",
      "Area under PR Curve: 1.0000\n"
     ]
    }
   ],
   "source": [
    "from pyspark.ml.evaluation import BinaryClassificationEvaluator\n",
    "\n",
    "\n",
    "evaluator = BinaryClassificationEvaluator(labelCol='Target')\n",
    "\n",
    "# We have only two choices: area under ROC and PR curves :-(\n",
    "\n",
    "auroc = evaluator.evaluate(predictions, {evaluator.metricName: \"areaUnderROC\"})\n",
    "auprc = evaluator.evaluate(predictions, {evaluator.metricName: \"areaUnderPR\"})\n",
    "print(\"Area under ROC Curve: {:.4f}\".format(auroc))\n",
    "print(\"Area under PR Curve: {:.4f}\".format(auprc))"
   ]
  },
  {
   "cell_type": "code",
   "execution_count": null,
   "metadata": {},
   "outputs": [],
   "source": []
  },
  {
   "cell_type": "code",
   "execution_count": null,
   "metadata": {},
   "outputs": [],
   "source": []
  },
  {
   "cell_type": "code",
   "execution_count": null,
   "metadata": {},
   "outputs": [],
   "source": [
    " reference\n",
    "    \n",
    "    \n",
    "    \n",
    "#https://github.com/timlrx/timlrx.com/blob/master/data/blog/2018-06-19-\n",
    "#feature-selection-using-feature-importance-score-creating-a-pyspark-estimator.md\n",
    "\n",
    "\n",
    "#https://github.com/rampanyam/Predict-Next-Day-Rain-in-Australia-Classification\n",
    "#-Problem/blob/main/Predicting_Rain_Tomorrow_Kaggle_Raghuram.ipynb\n",
    "\n",
    "\n",
    "#https://haya-toumy.gitbook.io/spark-notes/pyspark/pyspark/random-forest-classifier-example\n",
    "#Creating a Pipeline to Do All Feature Engineering"
   ]
  }
 ],
 "metadata": {
  "kernelspec": {
   "display_name": "Python 3 (ipykernel)",
   "language": "python",
   "name": "python3"
  },
  "language_info": {
   "codemirror_mode": {
    "name": "ipython",
    "version": 3
   },
   "file_extension": ".py",
   "mimetype": "text/x-python",
   "name": "python",
   "nbconvert_exporter": "python",
   "pygments_lexer": "ipython3",
   "version": "3.8.15"
  }
 },
 "nbformat": 4,
 "nbformat_minor": 2
}
