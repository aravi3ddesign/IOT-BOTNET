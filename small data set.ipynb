{
 "cells": [
  {
   "cell_type": "code",
   "execution_count": 17,
   "id": "ef26fe4f",
   "metadata": {},
   "outputs": [],
   "source": [
    "import pyspark\n",
    "import findspark\n",
    "findspark.init()"
   ]
  },
  {
   "cell_type": "code",
   "execution_count": 18,
   "id": "4acdbb01",
   "metadata": {},
   "outputs": [
    {
     "data": {
      "text/plain": [
       "'C:\\\\Users\\\\abhi\\\\.conda\\\\envs\\\\pyspark1\\\\lib\\\\site-packages\\\\pyspark'"
      ]
     },
     "execution_count": 18,
     "metadata": {},
     "output_type": "execute_result"
    }
   ],
   "source": [
    "findspark.find()"
   ]
  },
  {
   "cell_type": "code",
   "execution_count": 19,
   "id": "e935d20c",
   "metadata": {},
   "outputs": [],
   "source": [
    "from pyspark.sql import SparkSession"
   ]
  },
  {
   "cell_type": "code",
   "execution_count": 20,
   "id": "af5999f3",
   "metadata": {},
   "outputs": [],
   "source": [
    "sc = SparkSession.builder. \\\n",
    "appName(\"Major Project\").\\\n",
    "master(\"local[1]\").\\\n",
    "config(\"spark.memory.offHeap.enabled\",\"true\"). \\\n",
    "config(\"spark.memory.offHeap.size\",\"10g\").getOrCreate()"
   ]
  },
  {
   "cell_type": "code",
   "execution_count": 21,
   "id": "f9525f7e",
   "metadata": {},
   "outputs": [
    {
     "data": {
      "text/html": [
       "\n",
       "            <div>\n",
       "                <p><b>SparkSession - in-memory</b></p>\n",
       "                \n",
       "        <div>\n",
       "            <p><b>SparkContext</b></p>\n",
       "\n",
       "            <p><a href=\"http://192.168.1.50:4040\">Spark UI</a></p>\n",
       "\n",
       "            <dl>\n",
       "              <dt>Version</dt>\n",
       "                <dd><code>v3.3.1</code></dd>\n",
       "              <dt>Master</dt>\n",
       "                <dd><code>local[1]</code></dd>\n",
       "              <dt>AppName</dt>\n",
       "                <dd><code>Major Project</code></dd>\n",
       "            </dl>\n",
       "        </div>\n",
       "        \n",
       "            </div>\n",
       "        "
      ],
      "text/plain": [
       "<pyspark.sql.session.SparkSession at 0x202389c3b20>"
      ]
     },
     "execution_count": 21,
     "metadata": {},
     "output_type": "execute_result"
    }
   ],
   "source": [
    "sc"
   ]
  },
  {
   "cell_type": "code",
   "execution_count": 22,
   "id": "6345c954",
   "metadata": {},
   "outputs": [],
   "source": [
    "df= sc.read.option(\"header\",True).csv(r\"C:\\Users\\abhi\\Desktop\\data Engineer\\pysparkproject\\iot23updated\\iotnewdata.csv\")"
   ]
  },
  {
   "cell_type": "code",
   "execution_count": 23,
   "id": "e98ea61b",
   "metadata": {},
   "outputs": [
    {
     "data": {
      "text/html": [
       "<div>\n",
       "<style scoped>\n",
       "    .dataframe tbody tr th:only-of-type {\n",
       "        vertical-align: middle;\n",
       "    }\n",
       "\n",
       "    .dataframe tbody tr th {\n",
       "        vertical-align: top;\n",
       "    }\n",
       "\n",
       "    .dataframe thead th {\n",
       "        text-align: right;\n",
       "    }\n",
       "</style>\n",
       "<table border=\"1\" class=\"dataframe\">\n",
       "  <thead>\n",
       "    <tr style=\"text-align: right;\">\n",
       "      <th></th>\n",
       "      <th>bidirectional_duration_ms</th>\n",
       "      <th>bidirectional_packets</th>\n",
       "      <th>bidirectional_bytes</th>\n",
       "      <th>src2dst_first_seen_ms</th>\n",
       "      <th>src2dst_last_seen_ms</th>\n",
       "      <th>src2dst_packets</th>\n",
       "      <th>src2dst_bytes</th>\n",
       "      <th>dst2src_first_seen_ms</th>\n",
       "      <th>dst2src_last_seen_ms</th>\n",
       "      <th>dst2src_packets</th>\n",
       "      <th>dst2src_bytes</th>\n",
       "      <th>dst2src_duration_ms</th>\n",
       "      <th>src2dst_duration_ms</th>\n",
       "      <th>Target</th>\n",
       "    </tr>\n",
       "  </thead>\n",
       "  <tbody>\n",
       "    <tr>\n",
       "      <th>0</th>\n",
       "      <td>0</td>\n",
       "      <td>1</td>\n",
       "      <td>405</td>\n",
       "      <td>1537522897732</td>\n",
       "      <td>1537522897732</td>\n",
       "      <td>1</td>\n",
       "      <td>405</td>\n",
       "      <td>0</td>\n",
       "      <td>0</td>\n",
       "      <td>0</td>\n",
       "      <td>0</td>\n",
       "      <td>0</td>\n",
       "      <td>0</td>\n",
       "      <td>0</td>\n",
       "    </tr>\n",
       "    <tr>\n",
       "      <th>1</th>\n",
       "      <td>0</td>\n",
       "      <td>1</td>\n",
       "      <td>425</td>\n",
       "      <td>1537522897732</td>\n",
       "      <td>1537522897732</td>\n",
       "      <td>1</td>\n",
       "      <td>425</td>\n",
       "      <td>0</td>\n",
       "      <td>0</td>\n",
       "      <td>0</td>\n",
       "      <td>0</td>\n",
       "      <td>0</td>\n",
       "      <td>0</td>\n",
       "      <td>0</td>\n",
       "    </tr>\n",
       "    <tr>\n",
       "      <th>2</th>\n",
       "      <td>0</td>\n",
       "      <td>1</td>\n",
       "      <td>405</td>\n",
       "      <td>1537522897732</td>\n",
       "      <td>1537522897732</td>\n",
       "      <td>1</td>\n",
       "      <td>405</td>\n",
       "      <td>0</td>\n",
       "      <td>0</td>\n",
       "      <td>0</td>\n",
       "      <td>0</td>\n",
       "      <td>0</td>\n",
       "      <td>0</td>\n",
       "      <td>0</td>\n",
       "    </tr>\n",
       "    <tr>\n",
       "      <th>3</th>\n",
       "      <td>7005</td>\n",
       "      <td>4</td>\n",
       "      <td>972</td>\n",
       "      <td>1537523212430</td>\n",
       "      <td>1537523219435</td>\n",
       "      <td>4</td>\n",
       "      <td>972</td>\n",
       "      <td>0</td>\n",
       "      <td>0</td>\n",
       "      <td>0</td>\n",
       "      <td>0</td>\n",
       "      <td>0</td>\n",
       "      <td>7005</td>\n",
       "      <td>0</td>\n",
       "    </tr>\n",
       "    <tr>\n",
       "      <th>4</th>\n",
       "      <td>7006</td>\n",
       "      <td>4</td>\n",
       "      <td>972</td>\n",
       "      <td>1537523212430</td>\n",
       "      <td>1537523219436</td>\n",
       "      <td>4</td>\n",
       "      <td>972</td>\n",
       "      <td>0</td>\n",
       "      <td>0</td>\n",
       "      <td>0</td>\n",
       "      <td>0</td>\n",
       "      <td>0</td>\n",
       "      <td>7006</td>\n",
       "      <td>0</td>\n",
       "    </tr>\n",
       "  </tbody>\n",
       "</table>\n",
       "</div>"
      ],
      "text/plain": [
       "  bidirectional_duration_ms bidirectional_packets bidirectional_bytes  \\\n",
       "0                         0                     1                 405   \n",
       "1                         0                     1                 425   \n",
       "2                         0                     1                 405   \n",
       "3                      7005                     4                 972   \n",
       "4                      7006                     4                 972   \n",
       "\n",
       "  src2dst_first_seen_ms src2dst_last_seen_ms src2dst_packets src2dst_bytes  \\\n",
       "0         1537522897732        1537522897732               1           405   \n",
       "1         1537522897732        1537522897732               1           425   \n",
       "2         1537522897732        1537522897732               1           405   \n",
       "3         1537523212430        1537523219435               4           972   \n",
       "4         1537523212430        1537523219436               4           972   \n",
       "\n",
       "  dst2src_first_seen_ms dst2src_last_seen_ms dst2src_packets dst2src_bytes  \\\n",
       "0                     0                    0               0             0   \n",
       "1                     0                    0               0             0   \n",
       "2                     0                    0               0             0   \n",
       "3                     0                    0               0             0   \n",
       "4                     0                    0               0             0   \n",
       "\n",
       "  dst2src_duration_ms src2dst_duration_ms Target  \n",
       "0                   0                   0      0  \n",
       "1                   0                   0      0  \n",
       "2                   0                   0      0  \n",
       "3                   0                7005      0  \n",
       "4                   0                7006      0  "
      ]
     },
     "execution_count": 23,
     "metadata": {},
     "output_type": "execute_result"
    }
   ],
   "source": [
    "df.limit(5).toPandas()"
   ]
  },
  {
   "cell_type": "code",
   "execution_count": 24,
   "id": "19ff9dc6",
   "metadata": {},
   "outputs": [
    {
     "name": "stdout",
     "output_type": "stream",
     "text": [
      "root\n",
      " |-- bidirectional_duration_ms: string (nullable = true)\n",
      " |-- bidirectional_packets: string (nullable = true)\n",
      " |-- bidirectional_bytes: string (nullable = true)\n",
      " |-- src2dst_first_seen_ms: string (nullable = true)\n",
      " |-- src2dst_last_seen_ms: string (nullable = true)\n",
      " |-- src2dst_packets: string (nullable = true)\n",
      " |-- src2dst_bytes: string (nullable = true)\n",
      " |-- dst2src_first_seen_ms: string (nullable = true)\n",
      " |-- dst2src_last_seen_ms: string (nullable = true)\n",
      " |-- dst2src_packets: string (nullable = true)\n",
      " |-- dst2src_bytes: string (nullable = true)\n",
      " |-- dst2src_duration_ms: string (nullable = true)\n",
      " |-- src2dst_duration_ms: string (nullable = true)\n",
      " |-- Target: string (nullable = true)\n",
      "\n"
     ]
    }
   ],
   "source": [
    "df.printSchema()"
   ]
  },
  {
   "cell_type": "code",
   "execution_count": 25,
   "id": "85dfc7eb",
   "metadata": {},
   "outputs": [
    {
     "name": "stdout",
     "output_type": "stream",
     "text": [
      "Number of rows: \t 33170045\n",
      "Number of columns: \t 14\n"
     ]
    }
   ],
   "source": [
    "print('Number of rows: \\t', df.count())\n",
    "print('Number of columns: \\t', len(df.columns))"
   ]
  },
  {
   "cell_type": "code",
   "execution_count": 26,
   "id": "6ddfe025",
   "metadata": {},
   "outputs": [],
   "source": [
    "train_data, test_data,validation_data = df.randomSplit([0.2, 0.3, 0.5])"
   ]
  },
  {
   "cell_type": "code",
   "execution_count": 31,
   "id": "83fb5c86",
   "metadata": {},
   "outputs": [
    {
     "name": "stdout",
     "output_type": "stream",
     "text": [
      "Train Shape: (6638350, 14)\n"
     ]
    }
   ],
   "source": [
    "print('Train Shape: ({}, {})'.format(train_data.count(), len(train_data.columns)))"
   ]
  },
  {
   "cell_type": "code",
   "execution_count": 32,
   "id": "86c89717",
   "metadata": {},
   "outputs": [
    {
     "name": "stdout",
     "output_type": "stream",
     "text": [
      "Test Shape: (9951084, 14)\n"
     ]
    }
   ],
   "source": [
    "print('Test Shape: ({}, {})'.format(test_data.count(), len(test_data.columns)))"
   ]
  },
  {
   "cell_type": "code",
   "execution_count": 33,
   "id": "1a30ca76",
   "metadata": {},
   "outputs": [
    {
     "name": "stdout",
     "output_type": "stream",
     "text": [
      "validity: (16580611, 14)\n"
     ]
    }
   ],
   "source": [
    "print('validity: ({}, {})'.format(validation_data.count(), len(validation_data.columns)))"
   ]
  },
  {
   "cell_type": "code",
   "execution_count": 27,
   "id": "a30f7f14",
   "metadata": {},
   "outputs": [],
   "source": [
    "train_data.coalesce(1).write.options(header='True').mode('overwrite').csv(\"C:/Users/abhi/Desktop/data Engineer/pysparkproject/train2\")"
   ]
  },
  {
   "cell_type": "code",
   "execution_count": null,
   "id": "5adf87d9",
   "metadata": {},
   "outputs": [],
   "source": []
  },
  {
   "cell_type": "code",
   "execution_count": 28,
   "id": "da4f37e6",
   "metadata": {},
   "outputs": [],
   "source": [
    "test_data.coalesce(1).write.options(header='True').mode('overwrite').csv(\"C:/Users/abhi/Desktop/data Engineer/pysparkproject/test2\")"
   ]
  },
  {
   "cell_type": "code",
   "execution_count": null,
   "id": "9330a16a",
   "metadata": {},
   "outputs": [],
   "source": []
  },
  {
   "cell_type": "code",
   "execution_count": 29,
   "id": "14b0ee50",
   "metadata": {},
   "outputs": [],
   "source": [
    "validation_data.coalesce(1).write.options(header='True').mode('overwrite').csv(\"C:/Users/abhi/Desktop/data Engineer/pysparkproject/validation2\")"
   ]
  },
  {
   "cell_type": "code",
   "execution_count": null,
   "id": "b4cf6387",
   "metadata": {},
   "outputs": [],
   "source": []
  },
  {
   "cell_type": "code",
   "execution_count": null,
   "id": "ad81523c",
   "metadata": {},
   "outputs": [],
   "source": []
  },
  {
   "cell_type": "code",
   "execution_count": null,
   "id": "7f26782a",
   "metadata": {},
   "outputs": [],
   "source": []
  },
  {
   "cell_type": "code",
   "execution_count": null,
   "id": "5fc32f76",
   "metadata": {},
   "outputs": [],
   "source": []
  },
  {
   "cell_type": "code",
   "execution_count": null,
   "id": "0d9c2bf3",
   "metadata": {},
   "outputs": [],
   "source": []
  },
  {
   "cell_type": "code",
   "execution_count": null,
   "id": "8923377b",
   "metadata": {},
   "outputs": [],
   "source": []
  },
  {
   "cell_type": "code",
   "execution_count": null,
   "id": "3f9182a4",
   "metadata": {},
   "outputs": [],
   "source": [
    "for col in train_data.columns:\n",
    "    df1 = train_data.withColumn(col, validation_data[col].cast(StringType()))"
   ]
  },
  {
   "cell_type": "code",
   "execution_count": null,
   "id": "36e6292b",
   "metadata": {},
   "outputs": [],
   "source": [
    "df1.coalesce(1).write.options(header='True').mode('overwrite').csv(\"C:/Users/abhi/Desktop/data Engineer/pysparkproject/train2\")"
   ]
  },
  {
   "cell_type": "code",
   "execution_count": null,
   "id": "74a05aba",
   "metadata": {},
   "outputs": [],
   "source": [
    "for col in test_data.columns:\n",
    "    df2 = test_data.withColumn(col, validation_data[col].cast(StringType()))"
   ]
  },
  {
   "cell_type": "code",
   "execution_count": null,
   "id": "46b23e6f",
   "metadata": {},
   "outputs": [],
   "source": [
    "df2.coalesce(1).write.options(header='True').mode('overwrite').csv(\"C:/Users/abhi/Desktop/data Engineer/pysparkproject/test2\")"
   ]
  },
  {
   "cell_type": "code",
   "execution_count": null,
   "id": "bb1e3072",
   "metadata": {},
   "outputs": [],
   "source": []
  },
  {
   "cell_type": "code",
   "execution_count": null,
   "id": "168deb6f",
   "metadata": {},
   "outputs": [],
   "source": [
    "for col in validation_data.columns:\n",
    "    df3 = validation_data.withColumn(col, validation_data[col].cast(StringType()))"
   ]
  },
  {
   "cell_type": "code",
   "execution_count": null,
   "id": "bb4dc9e7",
   "metadata": {},
   "outputs": [],
   "source": [
    "df3.coalesce(1).write.options(header='True').mode('overwrite').csv(\"C:/Users/abhi/Desktop/data Engineer/pysparkproject/validation2\")"
   ]
  },
  {
   "cell_type": "code",
   "execution_count": null,
   "id": "13339544",
   "metadata": {},
   "outputs": [],
   "source": []
  }
 ],
 "metadata": {
  "kernelspec": {
   "display_name": "Python 3 (ipykernel)",
   "language": "python",
   "name": "python3"
  },
  "language_info": {
   "codemirror_mode": {
    "name": "ipython",
    "version": 3
   },
   "file_extension": ".py",
   "mimetype": "text/x-python",
   "name": "python",
   "nbconvert_exporter": "python",
   "pygments_lexer": "ipython3",
   "version": "3.8.15"
  }
 },
 "nbformat": 4,
 "nbformat_minor": 5
}
