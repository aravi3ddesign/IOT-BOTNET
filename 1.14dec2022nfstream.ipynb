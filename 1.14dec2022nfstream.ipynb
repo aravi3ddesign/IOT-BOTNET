{
 "cells": [
  {
   "cell_type": "code",
   "execution_count": 1,
   "id": "da13ecc9",
   "metadata": {},
   "outputs": [],
   "source": [
    "import pandas as pd\n",
    "from nfstream import NFStreamer"
   ]
  },
  {
   "cell_type": "code",
   "execution_count": 2,
   "id": "c4b5513c",
   "metadata": {},
   "outputs": [],
   "source": [
    "#beningfile "
   ]
  },
  {
   "cell_type": "code",
   "execution_count": 3,
   "id": "6b5d5abe",
   "metadata": {},
   "outputs": [],
   "source": [
    "#reading pcap file using nfstream with selected feature\n",
    "df1 = NFStreamer(source=\"/home/abhi/Desktop/pysparkproject/modifiediotdataset/bening/2018-09-21-capture.pcap\").to_pandas()[[\"bidirectional_duration_ms\",\n",
    "\"bidirectional_packets\",\n",
    "\"bidirectional_bytes\",\n",
    "\"src2dst_first_seen_ms\",\n",
    "\"src2dst_last_seen_ms\",\n",
    "\"src2dst_packets\",\n",
    "\"src2dst_bytes\",\n",
    "\"dst2src_first_seen_ms\",\n",
    "\"dst2src_last_seen_ms\",\n",
    "\"dst2src_packets\",\n",
    "\"dst2src_bytes\",\n",
    "\"dst2src_duration_ms\",\n",
    "\"src2dst_duration_ms\"]]\n",
    "\n",
    "#df2\n"
   ]
  },
  {
   "cell_type": "code",
   "execution_count": 4,
   "id": "1d271519",
   "metadata": {},
   "outputs": [],
   "source": [
    "bening1pcaptocsv = df1.to_csv(\"/home/abhi/Desktop/pysparkproject/iot23updated/bening1.csv\")"
   ]
  },
  {
   "cell_type": "code",
   "execution_count": 5,
   "id": "539fde12",
   "metadata": {},
   "outputs": [],
   "source": [
    "df2 = NFStreamer(source=\"/home/abhi/Desktop/pysparkproject/modifiediotdataset/bening/2018-10-25-14-06-32-192.168.1.132.pcap\").to_pandas()[[\"bidirectional_duration_ms\",\n",
    "\"bidirectional_packets\",\n",
    "\"bidirectional_bytes\",\n",
    "\"src2dst_first_seen_ms\",\n",
    "\"src2dst_last_seen_ms\",\n",
    "\"src2dst_packets\",\n",
    "\"src2dst_bytes\",\n",
    "\"dst2src_first_seen_ms\",\n",
    "\"dst2src_last_seen_ms\",\n",
    "\"dst2src_packets\",\n",
    "\"dst2src_bytes\",\n",
    "\"dst2src_duration_ms\",\n",
    "\"src2dst_duration_ms\"]]"
   ]
  },
  {
   "cell_type": "code",
   "execution_count": 6,
   "id": "1b783f33",
   "metadata": {},
   "outputs": [],
   "source": [
    "bening2pcaptocsv = df2.to_csv(\"/home/abhi/Desktop/pysparkproject/iot23updated/bening2.csv\")"
   ]
  },
  {
   "cell_type": "code",
   "execution_count": 7,
   "id": "7432aa82",
   "metadata": {},
   "outputs": [],
   "source": [
    "#reading pcap file using nfstream with selected feature\n",
    "df3 = NFStreamer(source=\"/home/abhi/Desktop/pysparkproject/modifiediotdataset/bening/2018-09-14-13-40-25-Philips-Hue-Bridge.pcap\").to_pandas()[[\"bidirectional_duration_ms\",\n",
    "\"bidirectional_packets\",\n",
    "\"bidirectional_bytes\",\n",
    "\"src2dst_first_seen_ms\",\n",
    "\"src2dst_last_seen_ms\",\n",
    "\"src2dst_packets\",\n",
    "\"src2dst_bytes\",\n",
    "\"dst2src_first_seen_ms\",\n",
    "\"dst2src_last_seen_ms\",\n",
    "\"dst2src_packets\",\n",
    "\"dst2src_bytes\",\n",
    "\"dst2src_duration_ms\",\n",
    "\"src2dst_duration_ms\"]]"
   ]
  },
  {
   "cell_type": "code",
   "execution_count": 8,
   "id": "dbc1709b",
   "metadata": {},
   "outputs": [],
   "source": [
    "bening3pcaptocsv = df3.to_csv(\"/home/abhi/Desktop/pysparkproject/iot23updated/bening3.csv\")"
   ]
  },
  {
   "cell_type": "code",
   "execution_count": null,
   "id": "5ca4cae2",
   "metadata": {},
   "outputs": [],
   "source": []
  },
  {
   "cell_type": "code",
   "execution_count": 9,
   "id": "53302b92",
   "metadata": {},
   "outputs": [],
   "source": [
    "df4 = NFStreamer(source=\"/home/abhi/Desktop/pysparkproject/modifiediotdataset/bening/2019-07-03-15-15-47-first_start_somfy_gateway.pcap\").to_pandas()[[\"bidirectional_duration_ms\",\n",
    "\"bidirectional_packets\",\n",
    "\"bidirectional_bytes\",\n",
    "\"src2dst_first_seen_ms\",\n",
    "\"src2dst_last_seen_ms\",\n",
    "\"src2dst_packets\",\n",
    "\"src2dst_bytes\",\n",
    "\"dst2src_first_seen_ms\",\n",
    "\"dst2src_last_seen_ms\",\n",
    "\"dst2src_packets\",\n",
    "\"dst2src_bytes\",\n",
    "\"dst2src_duration_ms\",\n",
    "\"src2dst_duration_ms\"]]"
   ]
  },
  {
   "cell_type": "code",
   "execution_count": 10,
   "id": "3da444ce",
   "metadata": {},
   "outputs": [],
   "source": [
    "bening4pcaptocsv = df4.to_csv(\"/home/abhi/Desktop/pysparkproject/iot23updated/bening4.csv\")"
   ]
  },
  {
   "cell_type": "code",
   "execution_count": 11,
   "id": "960d6303",
   "metadata": {},
   "outputs": [],
   "source": [
    "df5 = NFStreamer(source=\"/home/abhi/Desktop/pysparkproject/modifiediotdataset/bening/2019-07-03-16-41-09-192.168.1.158.pcap\").to_pandas()[[\"bidirectional_duration_ms\",\n",
    "\"bidirectional_packets\",\n",
    "\"bidirectional_bytes\",\n",
    "\"src2dst_first_seen_ms\",\n",
    "\"src2dst_last_seen_ms\",\n",
    "\"src2dst_packets\",\n",
    "\"src2dst_bytes\",\n",
    "\"dst2src_first_seen_ms\",\n",
    "\"dst2src_last_seen_ms\",\n",
    "\"dst2src_packets\",\n",
    "\"dst2src_bytes\",\n",
    "\"dst2src_duration_ms\",\n",
    "\"src2dst_duration_ms\"]]"
   ]
  },
  {
   "cell_type": "code",
   "execution_count": 12,
   "id": "46443031",
   "metadata": {},
   "outputs": [],
   "source": [
    "bening5pcaptocsv = df5.to_csv(\"/home/abhi/Desktop/pysparkproject/iot23updated/bening5.csv\")"
   ]
  },
  {
   "cell_type": "code",
   "execution_count": 13,
   "id": "0d267e45",
   "metadata": {},
   "outputs": [],
   "source": [
    "df6 = NFStreamer(source=\"/home/abhi/Desktop/pysparkproject/modifiediotdataset/bening/2019-07-04-16-41-10-192.168.1.158.pcap\").to_pandas()[[\"bidirectional_duration_ms\",\n",
    "\"bidirectional_packets\",\n",
    "\"bidirectional_bytes\",\n",
    "\"src2dst_first_seen_ms\",\n",
    "\"src2dst_last_seen_ms\",\n",
    "\"src2dst_packets\",\n",
    "\"src2dst_bytes\",\n",
    "\"dst2src_first_seen_ms\",\n",
    "\"dst2src_last_seen_ms\",\n",
    "\"dst2src_packets\",\n",
    "\"dst2src_bytes\",\n",
    "\"dst2src_duration_ms\",\n",
    "\"src2dst_duration_ms\"]]"
   ]
  },
  {
   "cell_type": "code",
   "execution_count": 14,
   "id": "0fa2af1f",
   "metadata": {},
   "outputs": [],
   "source": [
    "bening6pcaptocsv = df6.to_csv(\"/home/abhi/Desktop/pysparkproject/iot23updated/bening6.csv\")"
   ]
  },
  {
   "cell_type": "code",
   "execution_count": 15,
   "id": "a9359065",
   "metadata": {},
   "outputs": [],
   "source": [
    "df7 = NFStreamer(source=\"/home/abhi/Desktop/pysparkproject/modifiediotdataset/bening/2019-07-05-16-41-14-192.168.1.158.pcap\").to_pandas()[[\"bidirectional_duration_ms\",\n",
    "\"bidirectional_packets\",\n",
    "\"bidirectional_bytes\",\n",
    "\"src2dst_first_seen_ms\",\n",
    "\"src2dst_last_seen_ms\",\n",
    "\"src2dst_packets\",\n",
    "\"src2dst_bytes\",\n",
    "\"dst2src_first_seen_ms\",\n",
    "\"dst2src_last_seen_ms\",\n",
    "\"dst2src_packets\",\n",
    "\"dst2src_bytes\",\n",
    "\"dst2src_duration_ms\",\n",
    "\"src2dst_duration_ms\"]]"
   ]
  },
  {
   "cell_type": "code",
   "execution_count": 16,
   "id": "cd4bba58",
   "metadata": {},
   "outputs": [],
   "source": [
    "bening7pcaptocsv = df7.to_csv(\"/home/abhi/Desktop/pysparkproject/iot23updated/bening7.csv\")"
   ]
  },
  {
   "cell_type": "code",
   "execution_count": 17,
   "id": "d7cd1953",
   "metadata": {},
   "outputs": [],
   "source": [
    "df8 = NFStreamer(source=\"/home/abhi/Desktop/pysparkproject/modifiediotdataset/bening/2019-07-06-16-41-17-192.168.1.158.pcap\").to_pandas()[[\"bidirectional_duration_ms\",\n",
    "\"bidirectional_packets\",\n",
    "\"bidirectional_bytes\",\n",
    "\"src2dst_first_seen_ms\",\n",
    "\"src2dst_last_seen_ms\",\n",
    "\"src2dst_packets\",\n",
    "\"src2dst_bytes\",\n",
    "\"dst2src_first_seen_ms\",\n",
    "\"dst2src_last_seen_ms\",\n",
    "\"dst2src_packets\",\n",
    "\"dst2src_bytes\",\n",
    "\"dst2src_duration_ms\",\n",
    "\"src2dst_duration_ms\"]]"
   ]
  },
  {
   "cell_type": "code",
   "execution_count": 18,
   "id": "ee6c5e41",
   "metadata": {},
   "outputs": [],
   "source": [
    "bening8pcaptocsv = df8.to_csv(\"/home/abhi/Desktop/pysparkproject/iot23updated/bening8.csv\")"
   ]
  },
  {
   "cell_type": "code",
   "execution_count": 19,
   "id": "8f41eecc",
   "metadata": {},
   "outputs": [],
   "source": [
    "df9 = NFStreamer(source=\"/home/abhi/Desktop/pysparkproject/modifiediotdataset/bening/2019-07-07-16-41-19-192.168.1.158.pcap\").to_pandas()[[\"bidirectional_duration_ms\",\n",
    "\"bidirectional_packets\",\n",
    "\"bidirectional_bytes\",\n",
    "\"src2dst_first_seen_ms\",\n",
    "\"src2dst_last_seen_ms\",\n",
    "\"src2dst_packets\",\n",
    "\"src2dst_bytes\",\n",
    "\"dst2src_first_seen_ms\",\n",
    "\"dst2src_last_seen_ms\",\n",
    "\"dst2src_packets\",\n",
    "\"dst2src_bytes\",\n",
    "\"dst2src_duration_ms\",\n",
    "\"src2dst_duration_ms\"]]"
   ]
  },
  {
   "cell_type": "code",
   "execution_count": 20,
   "id": "d8bb9874",
   "metadata": {},
   "outputs": [],
   "source": [
    "bening9pcaptocsv = df9.to_csv(\"/home/abhi/Desktop/pysparkproject/iot23updated/bening9.csv\")"
   ]
  },
  {
   "cell_type": "code",
   "execution_count": null,
   "id": "b041b1d5",
   "metadata": {},
   "outputs": [],
   "source": []
  },
  {
   "cell_type": "code",
   "execution_count": 21,
   "id": "5ac349c1",
   "metadata": {},
   "outputs": [
    {
     "name": "stderr",
     "output_type": "stream",
     "text": [
      "/home/abhi/anaconda3/envs/pyspark/lib/python3.9/site-packages/nfstream/streamer.py:513: DtypeWarning: Columns (33,37) have mixed types. Specify dtype option on import or set low_memory=False.\n",
      "  df = pd.read_csv(temp_file_path)\n"
     ]
    }
   ],
   "source": [
    "\n",
    "df11 = NFStreamer(source=\"/home/abhi/Desktop/pysparkproject/modifiediotdataset/attack/2018-07-20-17-31-20-192.168.100.108.pcap\").to_pandas()[[\"bidirectional_duration_ms\",\n",
    "\"bidirectional_packets\",\n",
    "\"bidirectional_bytes\",\n",
    "\"src2dst_first_seen_ms\",\n",
    "\"src2dst_last_seen_ms\",\n",
    "\"src2dst_packets\",\n",
    "\"src2dst_bytes\",\n",
    "\"dst2src_first_seen_ms\",\n",
    "\"dst2src_last_seen_ms\",\n",
    "\"dst2src_packets\",\n",
    "\"dst2src_bytes\",\n",
    "\"dst2src_duration_ms\",\n",
    "\"src2dst_duration_ms\"]]"
   ]
  },
  {
   "cell_type": "code",
   "execution_count": 23,
   "id": "cb4d599f",
   "metadata": {},
   "outputs": [],
   "source": [
    "Attack11pcaptocsv = df11.to_csv(\"/home/abhi/Desktop/pysparkproject/iot23updated/attack11.csv\")"
   ]
  },
  {
   "cell_type": "code",
   "execution_count": 22,
   "id": "eef62d9f",
   "metadata": {},
   "outputs": [
    {
     "name": "stderr",
     "output_type": "stream",
     "text": [
      "/home/abhi/anaconda3/envs/pyspark/lib/python3.9/site-packages/nfstream/streamer.py:513: DtypeWarning: Columns (33,36,37) have mixed types. Specify dtype option on import or set low_memory=False.\n",
      "  df = pd.read_csv(temp_file_path)\n"
     ]
    }
   ],
   "source": [
    "df22 = NFStreamer(source=\"/home/abhi/Desktop/pysparkproject/modifiediotdataset/attack/2018-07-25-10-53-16-192.168.100.111.pcap\").to_pandas()[[\"bidirectional_duration_ms\",\n",
    "\"bidirectional_packets\",\n",
    "\"bidirectional_bytes\",\n",
    "\"src2dst_first_seen_ms\",\n",
    "\"src2dst_last_seen_ms\",\n",
    "\"src2dst_packets\",\n",
    "\"src2dst_bytes\",\n",
    "\"dst2src_first_seen_ms\",\n",
    "\"dst2src_last_seen_ms\",\n",
    "\"dst2src_packets\",\n",
    "\"dst2src_bytes\",\n",
    "\"dst2src_duration_ms\",\n",
    "\"src2dst_duration_ms\"]]\n"
   ]
  },
  {
   "cell_type": "code",
   "execution_count": null,
   "id": "328a63c1",
   "metadata": {},
   "outputs": [],
   "source": [
    "Attack22pcaptocsv = df22.to_csv(\"/home/abhi/Desktop/pysparkproject/iot23updated/attack22.csv\")"
   ]
  },
  {
   "cell_type": "code",
   "execution_count": null,
   "id": "6cad5a2e",
   "metadata": {},
   "outputs": [],
   "source": [
    "df33 = NFStreamer(source=\"/home/abhi/Desktop/pysparkproject/modifiediotdataset/attack/2018-07-31-15-15-09-192.168.100.113.pcap\").to_pandas()[[\"bidirectional_duration_ms\",\n",
    "\"bidirectional_packets\",\n",
    "\"bidirectional_bytes\",\n",
    "\"src2dst_first_seen_ms\",\n",
    "\"src2dst_last_seen_ms\",\n",
    "\"src2dst_packets\",\n",
    "\"src2dst_bytes\",\n",
    "\"dst2src_first_seen_ms\",\n",
    "\"dst2src_last_seen_ms\",\n",
    "\"dst2src_packets\",\n",
    "\"dst2src_bytes\",\n",
    "\"dst2src_duration_ms\",\n",
    "\"src2dst_duration_ms\"]]"
   ]
  },
  {
   "cell_type": "code",
   "execution_count": null,
   "id": "15abf5ed",
   "metadata": {},
   "outputs": [],
   "source": [
    "attack33pcaptocsv = df33.to_csv(\"/home/abhi/Desktop/pysparkproject/iot23updated/attack33.csv\")"
   ]
  },
  {
   "cell_type": "code",
   "execution_count": 11,
   "id": "bd4823f3",
   "metadata": {},
   "outputs": [
    {
     "name": "stderr",
     "output_type": "stream",
     "text": [
      "/home/abhi/anaconda3/envs/pyspark/lib/python3.9/site-packages/nfstream/streamer.py:513: DtypeWarning: Columns (33,37) have mixed types. Specify dtype option on import or set low_memory=False.\n",
      "  df = pd.read_csv(temp_file_path)\n"
     ]
    }
   ],
   "source": [
    "df44 = NFStreamer(source=\"/home/abhi/Desktop/pysparkproject/modifiediotdataset/attack/2018-09-06-11-43-12-192.168.100.111.only15000000.pcap\").to_pandas()[[\"bidirectional_duration_ms\",\n",
    "\"bidirectional_packets\",\n",
    "\"bidirectional_bytes\",\n",
    "\"src2dst_first_seen_ms\",\n",
    "\"src2dst_last_seen_ms\",\n",
    "\"src2dst_packets\",\n",
    "\"src2dst_bytes\",\n",
    "\"dst2src_first_seen_ms\",\n",
    "\"dst2src_last_seen_ms\",\n",
    "\"dst2src_packets\",\n",
    "\"dst2src_bytes\",\n",
    "\"dst2src_duration_ms\",\n",
    "\"src2dst_duration_ms\"]]"
   ]
  },
  {
   "cell_type": "code",
   "execution_count": 12,
   "id": "342d7303",
   "metadata": {},
   "outputs": [],
   "source": [
    "attack44pcaptocsv = df44.to_csv(\"/home/abhi/Desktop/pysparkproject/iot23updated/attack44.csv\")"
   ]
  },
  {
   "cell_type": "code",
   "execution_count": 9,
   "id": "d97e431d",
   "metadata": {},
   "outputs": [
    {
     "name": "stderr",
     "output_type": "stream",
     "text": [
      "/home/abhi/anaconda3/envs/pyspark/lib/python3.9/site-packages/nfstream/streamer.py:513: DtypeWarning: Columns (33,37) have mixed types. Specify dtype option on import or set low_memory=False.\n",
      "  df = pd.read_csv(temp_file_path)\n"
     ]
    }
   ],
   "source": [
    "df55 = NFStreamer(source=\"/home/abhi/Desktop/pysparkproject/modifiediotdataset/attack/2018-09-06-11-43-12-192.168.100.111.pcap\").to_pandas()[[\"bidirectional_duration_ms\",\n",
    "\"bidirectional_packets\",\n",
    "\"bidirectional_bytes\",\n",
    "\"src2dst_first_seen_ms\",\n",
    "\"src2dst_last_seen_ms\",\n",
    "\"src2dst_packets\",\n",
    "\"src2dst_bytes\",\n",
    "\"dst2src_first_seen_ms\",\n",
    "\"dst2src_last_seen_ms\",\n",
    "\"dst2src_packets\",\n",
    "\"dst2src_bytes\",\n",
    "\"dst2src_duration_ms\",\n",
    "\"src2dst_duration_ms\"]]"
   ]
  },
  {
   "cell_type": "code",
   "execution_count": 10,
   "id": "f4ec7edc",
   "metadata": {},
   "outputs": [],
   "source": [
    "attack55pcaptocsv = df55.to_csv(\"/home/abhi/Desktop/pysparkproject/iot23updated/bening55.csv\")"
   ]
  },
  {
   "cell_type": "code",
   "execution_count": 7,
   "id": "279a9fda",
   "metadata": {},
   "outputs": [],
   "source": [
    "df66 = NFStreamer(source=\"/home/abhi/Desktop/pysparkproject/modifiediotdataset/attack/2018-10-02-13-12-30-192.168.100.103.pcap\").to_pandas()[[\"bidirectional_duration_ms\",\n",
    "\"bidirectional_packets\",\n",
    "\"bidirectional_bytes\",\n",
    "\"src2dst_first_seen_ms\",\n",
    "\"src2dst_last_seen_ms\",\n",
    "\"src2dst_packets\",\n",
    "\"src2dst_bytes\",\n",
    "\"dst2src_first_seen_ms\",\n",
    "\"dst2src_last_seen_ms\",\n",
    "\"dst2src_packets\",\n",
    "\"dst2src_bytes\",\n",
    "\"dst2src_duration_ms\",\n",
    "\"src2dst_duration_ms\"]]"
   ]
  },
  {
   "cell_type": "code",
   "execution_count": 8,
   "id": "632aa385",
   "metadata": {},
   "outputs": [],
   "source": [
    "attack66pcaptocsv = df66.to_csv(\"/home/abhi/Desktop/pysparkproject/iot23updated/attack66.csv\")\n"
   ]
  },
  {
   "cell_type": "code",
   "execution_count": 5,
   "id": "d9d4dd43",
   "metadata": {},
   "outputs": [
    {
     "name": "stderr",
     "output_type": "stream",
     "text": [
      "/home/abhi/anaconda3/envs/pyspark/lib/python3.9/site-packages/nfstream/streamer.py:513: DtypeWarning: Columns (33,34,35,37) have mixed types. Specify dtype option on import or set low_memory=False.\n",
      "  df = pd.read_csv(temp_file_path)\n"
     ]
    }
   ],
   "source": [
    "df77 = NFStreamer(source=\"/home/abhi/Desktop/pysparkproject/modifiediotdataset/attack/2018-05-09-192.168.100.103.pcap\").to_pandas()[[\"bidirectional_duration_ms\",\n",
    "\"bidirectional_packets\",\n",
    "\"bidirectional_bytes\",\n",
    "\"src2dst_first_seen_ms\",\n",
    "\"src2dst_last_seen_ms\",\n",
    "\"src2dst_packets\",\n",
    "\"src2dst_bytes\",\n",
    "\"dst2src_first_seen_ms\",\n",
    "\"dst2src_last_seen_ms\",\n",
    "\"dst2src_packets\",\n",
    "\"dst2src_bytes\",\n",
    "\"dst2src_duration_ms\",\n",
    "\"src2dst_duration_ms\"]]\n"
   ]
  },
  {
   "cell_type": "code",
   "execution_count": 6,
   "id": "f5e605cd",
   "metadata": {},
   "outputs": [],
   "source": [
    "attack77pcaptocsv = df77.to_csv(\"/home/abhi/Desktop/pysparkproject/iot23updated/attack77.csv\")"
   ]
  },
  {
   "cell_type": "code",
   "execution_count": 3,
   "id": "a253b7cc",
   "metadata": {},
   "outputs": [
    {
     "name": "stderr",
     "output_type": "stream",
     "text": [
      "/home/abhi/anaconda3/envs/pyspark/lib/python3.9/site-packages/nfstream/streamer.py:513: DtypeWarning: Columns (33) have mixed types. Specify dtype option on import or set low_memory=False.\n",
      "  df = pd.read_csv(temp_file_path)\n"
     ]
    }
   ],
   "source": [
    "df88 = NFStreamer(source=\"/home/abhi/Desktop/pysparkproject/modifiediotdataset/attack/2018-05-21_capture.pcap\").to_pandas()[[\"bidirectional_duration_ms\",\n",
    "\"bidirectional_packets\",\n",
    "\"bidirectional_bytes\",\n",
    "\"src2dst_first_seen_ms\",\n",
    "\"src2dst_last_seen_ms\",\n",
    "\"src2dst_packets\",\n",
    "\"src2dst_bytes\",\n",
    "\"dst2src_first_seen_ms\",\n",
    "\"dst2src_last_seen_ms\",\n",
    "\"dst2src_packets\",\n",
    "\"dst2src_bytes\",\n",
    "\"dst2src_duration_ms\",\n",
    "\"src2dst_duration_ms\"]]"
   ]
  },
  {
   "cell_type": "code",
   "execution_count": 4,
   "id": "ebca4213",
   "metadata": {},
   "outputs": [],
   "source": [
    "attack88pcaptocsv = df88.to_csv(\"/home/abhi/Desktop/pysparkproject/iot23updated/attack88.csv\")"
   ]
  },
  {
   "cell_type": "code",
   "execution_count": null,
   "id": "72e08d7f",
   "metadata": {},
   "outputs": [],
   "source": []
  }
 ],
 "metadata": {
  "kernelspec": {
   "display_name": "Python 3 (ipykernel)",
   "language": "python",
   "name": "python3"
  },
  "language_info": {
   "codemirror_mode": {
    "name": "ipython",
    "version": 3
   },
   "file_extension": ".py",
   "mimetype": "text/x-python",
   "name": "python",
   "nbconvert_exporter": "python",
   "pygments_lexer": "ipython3",
   "version": "3.8.15"
  }
 },
 "nbformat": 4,
 "nbformat_minor": 5
}
